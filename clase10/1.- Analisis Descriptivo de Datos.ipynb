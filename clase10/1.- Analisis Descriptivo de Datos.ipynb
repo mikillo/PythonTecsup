{
 "cells": [
  {
   "cell_type": "markdown",
   "metadata": {},
   "source": [
    "## Análisis de Datos con Python"
   ]
  },
  {
   "cell_type": "markdown",
   "metadata": {},
   "source": [
    "<h2>Indice</h2>\n",
    "\n",
    "<div class=\"alert alert-block alert-info\" style=\"margin-top: 20px\">\n",
    "<ol>\n",
    "    <li><a href=\"#import_data\">Importar datos de la sesión 01</a></li>\n",
    "    <li><a href=\"#pattern_visualization\">Analyzing Individual Feature Patterns using Visualization</a></li>\n",
    "    <li><a href=\"#discriptive_statistics\">Descriptive Statistical Analysis</a></li>\n",
    "    <li><a href=\"#basic_grouping\">Basics of Grouping</a></li>\n",
    "    <li><a href=\"#correlation_causation\">Correlation and Causation</a></li>\n",
    "    <li><a href=\"#anova\">ANOVA</a></li>\n",
    "</ol>\n",
    "</div>\n",
    " \n",
    "<hr>"
   ]
  },
  {
   "cell_type": "markdown",
   "metadata": {},
   "source": [
    "<h3>Cuál es la principal caracteristica que tiene el mayor impacto en el precio del auto?</h3>"
   ]
  },
  {
   "cell_type": "markdown",
   "metadata": {},
   "source": [
    "<h2 id=\"import_data\">1. Importar datos de la sesión 01</h2>"
   ]
  },
  {
   "cell_type": "markdown",
   "metadata": {},
   "source": [
    "<h4>Setup</h4>"
   ]
  },
  {
   "cell_type": "markdown",
   "metadata": {},
   "source": [
    " Import libraries "
   ]
  },
  {
   "cell_type": "code",
   "execution_count": 4,
   "metadata": {},
   "outputs": [],
   "source": [
    "import pandas as pd\n",
    "import numpy as np"
   ]
  },
  {
   "cell_type": "markdown",
   "metadata": {},
   "source": [
    " load data and store in dataframe df:"
   ]
  },
  {
   "cell_type": "code",
   "execution_count": 5,
   "metadata": {},
   "outputs": [
    {
     "data": {
      "text/html": [
       "<div>\n",
       "<style scoped>\n",
       "    .dataframe tbody tr th:only-of-type {\n",
       "        vertical-align: middle;\n",
       "    }\n",
       "\n",
       "    .dataframe tbody tr th {\n",
       "        vertical-align: top;\n",
       "    }\n",
       "\n",
       "    .dataframe thead th {\n",
       "        text-align: right;\n",
       "    }\n",
       "</style>\n",
       "<table border=\"1\" class=\"dataframe\">\n",
       "  <thead>\n",
       "    <tr style=\"text-align: right;\">\n",
       "      <th></th>\n",
       "      <th>symboling</th>\n",
       "      <th>normalized-losses</th>\n",
       "      <th>make</th>\n",
       "      <th>aspiration</th>\n",
       "      <th>num-of-doors</th>\n",
       "      <th>body-style</th>\n",
       "      <th>drive-wheels</th>\n",
       "      <th>engine-location</th>\n",
       "      <th>wheel-base</th>\n",
       "      <th>length</th>\n",
       "      <th>...</th>\n",
       "      <th>compression-ratio</th>\n",
       "      <th>horsepower</th>\n",
       "      <th>peak-rpm</th>\n",
       "      <th>city-mpg</th>\n",
       "      <th>highway-mpg</th>\n",
       "      <th>price</th>\n",
       "      <th>city-L/100km</th>\n",
       "      <th>horsepower-binned</th>\n",
       "      <th>diesel</th>\n",
       "      <th>gas</th>\n",
       "    </tr>\n",
       "  </thead>\n",
       "  <tbody>\n",
       "    <tr>\n",
       "      <th>0</th>\n",
       "      <td>3</td>\n",
       "      <td>122</td>\n",
       "      <td>alfa-romero</td>\n",
       "      <td>std</td>\n",
       "      <td>two</td>\n",
       "      <td>convertible</td>\n",
       "      <td>rwd</td>\n",
       "      <td>front</td>\n",
       "      <td>88.6</td>\n",
       "      <td>0.811148</td>\n",
       "      <td>...</td>\n",
       "      <td>9.0</td>\n",
       "      <td>111.0</td>\n",
       "      <td>5000.0</td>\n",
       "      <td>21</td>\n",
       "      <td>27</td>\n",
       "      <td>13495.0</td>\n",
       "      <td>11.190476</td>\n",
       "      <td>Medium</td>\n",
       "      <td>0</td>\n",
       "      <td>1</td>\n",
       "    </tr>\n",
       "    <tr>\n",
       "      <th>1</th>\n",
       "      <td>3</td>\n",
       "      <td>122</td>\n",
       "      <td>alfa-romero</td>\n",
       "      <td>std</td>\n",
       "      <td>two</td>\n",
       "      <td>convertible</td>\n",
       "      <td>rwd</td>\n",
       "      <td>front</td>\n",
       "      <td>88.6</td>\n",
       "      <td>0.811148</td>\n",
       "      <td>...</td>\n",
       "      <td>9.0</td>\n",
       "      <td>111.0</td>\n",
       "      <td>5000.0</td>\n",
       "      <td>21</td>\n",
       "      <td>27</td>\n",
       "      <td>16500.0</td>\n",
       "      <td>11.190476</td>\n",
       "      <td>Medium</td>\n",
       "      <td>0</td>\n",
       "      <td>1</td>\n",
       "    </tr>\n",
       "    <tr>\n",
       "      <th>2</th>\n",
       "      <td>1</td>\n",
       "      <td>122</td>\n",
       "      <td>alfa-romero</td>\n",
       "      <td>std</td>\n",
       "      <td>two</td>\n",
       "      <td>hatchback</td>\n",
       "      <td>rwd</td>\n",
       "      <td>front</td>\n",
       "      <td>94.5</td>\n",
       "      <td>0.822681</td>\n",
       "      <td>...</td>\n",
       "      <td>9.0</td>\n",
       "      <td>154.0</td>\n",
       "      <td>5000.0</td>\n",
       "      <td>19</td>\n",
       "      <td>26</td>\n",
       "      <td>16500.0</td>\n",
       "      <td>12.368421</td>\n",
       "      <td>Medium</td>\n",
       "      <td>0</td>\n",
       "      <td>1</td>\n",
       "    </tr>\n",
       "    <tr>\n",
       "      <th>3</th>\n",
       "      <td>2</td>\n",
       "      <td>164</td>\n",
       "      <td>audi</td>\n",
       "      <td>std</td>\n",
       "      <td>four</td>\n",
       "      <td>sedan</td>\n",
       "      <td>fwd</td>\n",
       "      <td>front</td>\n",
       "      <td>99.8</td>\n",
       "      <td>0.848630</td>\n",
       "      <td>...</td>\n",
       "      <td>10.0</td>\n",
       "      <td>102.0</td>\n",
       "      <td>5500.0</td>\n",
       "      <td>24</td>\n",
       "      <td>30</td>\n",
       "      <td>13950.0</td>\n",
       "      <td>9.791667</td>\n",
       "      <td>Medium</td>\n",
       "      <td>0</td>\n",
       "      <td>1</td>\n",
       "    </tr>\n",
       "    <tr>\n",
       "      <th>4</th>\n",
       "      <td>2</td>\n",
       "      <td>164</td>\n",
       "      <td>audi</td>\n",
       "      <td>std</td>\n",
       "      <td>four</td>\n",
       "      <td>sedan</td>\n",
       "      <td>4wd</td>\n",
       "      <td>front</td>\n",
       "      <td>99.4</td>\n",
       "      <td>0.848630</td>\n",
       "      <td>...</td>\n",
       "      <td>8.0</td>\n",
       "      <td>115.0</td>\n",
       "      <td>5500.0</td>\n",
       "      <td>18</td>\n",
       "      <td>22</td>\n",
       "      <td>17450.0</td>\n",
       "      <td>13.055556</td>\n",
       "      <td>Medium</td>\n",
       "      <td>0</td>\n",
       "      <td>1</td>\n",
       "    </tr>\n",
       "  </tbody>\n",
       "</table>\n",
       "<p>5 rows × 29 columns</p>\n",
       "</div>"
      ],
      "text/plain": [
       "   symboling  normalized-losses         make aspiration num-of-doors  \\\n",
       "0          3                122  alfa-romero        std          two   \n",
       "1          3                122  alfa-romero        std          two   \n",
       "2          1                122  alfa-romero        std          two   \n",
       "3          2                164         audi        std         four   \n",
       "4          2                164         audi        std         four   \n",
       "\n",
       "    body-style drive-wheels engine-location  wheel-base    length  ...  \\\n",
       "0  convertible          rwd           front        88.6  0.811148  ...   \n",
       "1  convertible          rwd           front        88.6  0.811148  ...   \n",
       "2    hatchback          rwd           front        94.5  0.822681  ...   \n",
       "3        sedan          fwd           front        99.8  0.848630  ...   \n",
       "4        sedan          4wd           front        99.4  0.848630  ...   \n",
       "\n",
       "   compression-ratio  horsepower  peak-rpm city-mpg highway-mpg    price  \\\n",
       "0                9.0       111.0    5000.0       21          27  13495.0   \n",
       "1                9.0       111.0    5000.0       21          27  16500.0   \n",
       "2                9.0       154.0    5000.0       19          26  16500.0   \n",
       "3               10.0       102.0    5500.0       24          30  13950.0   \n",
       "4                8.0       115.0    5500.0       18          22  17450.0   \n",
       "\n",
       "  city-L/100km  horsepower-binned  diesel  gas  \n",
       "0    11.190476             Medium       0    1  \n",
       "1    11.190476             Medium       0    1  \n",
       "2    12.368421             Medium       0    1  \n",
       "3     9.791667             Medium       0    1  \n",
       "4    13.055556             Medium       0    1  \n",
       "\n",
       "[5 rows x 29 columns]"
      ]
     },
     "execution_count": 5,
     "metadata": {},
     "output_type": "execute_result"
    }
   ],
   "source": [
    "namefile ='automobileEDA.csv'\n",
    "df = pd.read_csv(namefile)\n",
    "df.head()"
   ]
  },
  {
   "cell_type": "code",
   "execution_count": 6,
   "metadata": {},
   "outputs": [
    {
     "data": {
      "text/html": [
       "<div>\n",
       "<style scoped>\n",
       "    .dataframe tbody tr th:only-of-type {\n",
       "        vertical-align: middle;\n",
       "    }\n",
       "\n",
       "    .dataframe tbody tr th {\n",
       "        vertical-align: top;\n",
       "    }\n",
       "\n",
       "    .dataframe thead th {\n",
       "        text-align: right;\n",
       "    }\n",
       "</style>\n",
       "<table border=\"1\" class=\"dataframe\">\n",
       "  <thead>\n",
       "    <tr style=\"text-align: right;\">\n",
       "      <th></th>\n",
       "      <th>symboling</th>\n",
       "      <th>normalized-losses</th>\n",
       "      <th>wheel-base</th>\n",
       "      <th>length</th>\n",
       "      <th>width</th>\n",
       "      <th>height</th>\n",
       "      <th>curb-weight</th>\n",
       "      <th>engine-size</th>\n",
       "      <th>bore</th>\n",
       "      <th>stroke</th>\n",
       "      <th>compression-ratio</th>\n",
       "      <th>horsepower</th>\n",
       "      <th>peak-rpm</th>\n",
       "      <th>city-mpg</th>\n",
       "      <th>highway-mpg</th>\n",
       "      <th>price</th>\n",
       "      <th>city-L/100km</th>\n",
       "      <th>diesel</th>\n",
       "      <th>gas</th>\n",
       "    </tr>\n",
       "  </thead>\n",
       "  <tbody>\n",
       "    <tr>\n",
       "      <th>count</th>\n",
       "      <td>201.000000</td>\n",
       "      <td>201.00000</td>\n",
       "      <td>201.000000</td>\n",
       "      <td>201.000000</td>\n",
       "      <td>201.000000</td>\n",
       "      <td>201.000000</td>\n",
       "      <td>201.000000</td>\n",
       "      <td>201.000000</td>\n",
       "      <td>201.000000</td>\n",
       "      <td>197.000000</td>\n",
       "      <td>201.000000</td>\n",
       "      <td>201.000000</td>\n",
       "      <td>201.000000</td>\n",
       "      <td>201.000000</td>\n",
       "      <td>201.000000</td>\n",
       "      <td>201.000000</td>\n",
       "      <td>201.000000</td>\n",
       "      <td>201.000000</td>\n",
       "      <td>201.000000</td>\n",
       "    </tr>\n",
       "    <tr>\n",
       "      <th>mean</th>\n",
       "      <td>0.840796</td>\n",
       "      <td>122.00000</td>\n",
       "      <td>98.797015</td>\n",
       "      <td>0.837102</td>\n",
       "      <td>0.915126</td>\n",
       "      <td>53.766667</td>\n",
       "      <td>2555.666667</td>\n",
       "      <td>126.875622</td>\n",
       "      <td>3.330692</td>\n",
       "      <td>3.256904</td>\n",
       "      <td>10.164279</td>\n",
       "      <td>103.405534</td>\n",
       "      <td>5117.665368</td>\n",
       "      <td>25.179104</td>\n",
       "      <td>30.686567</td>\n",
       "      <td>13207.129353</td>\n",
       "      <td>9.944145</td>\n",
       "      <td>0.099502</td>\n",
       "      <td>0.900498</td>\n",
       "    </tr>\n",
       "    <tr>\n",
       "      <th>std</th>\n",
       "      <td>1.254802</td>\n",
       "      <td>31.99625</td>\n",
       "      <td>6.066366</td>\n",
       "      <td>0.059213</td>\n",
       "      <td>0.029187</td>\n",
       "      <td>2.447822</td>\n",
       "      <td>517.296727</td>\n",
       "      <td>41.546834</td>\n",
       "      <td>0.268072</td>\n",
       "      <td>0.319256</td>\n",
       "      <td>4.004965</td>\n",
       "      <td>37.365700</td>\n",
       "      <td>478.113805</td>\n",
       "      <td>6.423220</td>\n",
       "      <td>6.815150</td>\n",
       "      <td>7947.066342</td>\n",
       "      <td>2.534599</td>\n",
       "      <td>0.300083</td>\n",
       "      <td>0.300083</td>\n",
       "    </tr>\n",
       "    <tr>\n",
       "      <th>min</th>\n",
       "      <td>-2.000000</td>\n",
       "      <td>65.00000</td>\n",
       "      <td>86.600000</td>\n",
       "      <td>0.678039</td>\n",
       "      <td>0.837500</td>\n",
       "      <td>47.800000</td>\n",
       "      <td>1488.000000</td>\n",
       "      <td>61.000000</td>\n",
       "      <td>2.540000</td>\n",
       "      <td>2.070000</td>\n",
       "      <td>7.000000</td>\n",
       "      <td>48.000000</td>\n",
       "      <td>4150.000000</td>\n",
       "      <td>13.000000</td>\n",
       "      <td>16.000000</td>\n",
       "      <td>5118.000000</td>\n",
       "      <td>4.795918</td>\n",
       "      <td>0.000000</td>\n",
       "      <td>0.000000</td>\n",
       "    </tr>\n",
       "    <tr>\n",
       "      <th>25%</th>\n",
       "      <td>0.000000</td>\n",
       "      <td>101.00000</td>\n",
       "      <td>94.500000</td>\n",
       "      <td>0.801538</td>\n",
       "      <td>0.890278</td>\n",
       "      <td>52.000000</td>\n",
       "      <td>2169.000000</td>\n",
       "      <td>98.000000</td>\n",
       "      <td>3.150000</td>\n",
       "      <td>3.110000</td>\n",
       "      <td>8.600000</td>\n",
       "      <td>70.000000</td>\n",
       "      <td>4800.000000</td>\n",
       "      <td>19.000000</td>\n",
       "      <td>25.000000</td>\n",
       "      <td>7775.000000</td>\n",
       "      <td>7.833333</td>\n",
       "      <td>0.000000</td>\n",
       "      <td>1.000000</td>\n",
       "    </tr>\n",
       "    <tr>\n",
       "      <th>50%</th>\n",
       "      <td>1.000000</td>\n",
       "      <td>122.00000</td>\n",
       "      <td>97.000000</td>\n",
       "      <td>0.832292</td>\n",
       "      <td>0.909722</td>\n",
       "      <td>54.100000</td>\n",
       "      <td>2414.000000</td>\n",
       "      <td>120.000000</td>\n",
       "      <td>3.310000</td>\n",
       "      <td>3.290000</td>\n",
       "      <td>9.000000</td>\n",
       "      <td>95.000000</td>\n",
       "      <td>5125.369458</td>\n",
       "      <td>24.000000</td>\n",
       "      <td>30.000000</td>\n",
       "      <td>10295.000000</td>\n",
       "      <td>9.791667</td>\n",
       "      <td>0.000000</td>\n",
       "      <td>1.000000</td>\n",
       "    </tr>\n",
       "    <tr>\n",
       "      <th>75%</th>\n",
       "      <td>2.000000</td>\n",
       "      <td>137.00000</td>\n",
       "      <td>102.400000</td>\n",
       "      <td>0.881788</td>\n",
       "      <td>0.925000</td>\n",
       "      <td>55.500000</td>\n",
       "      <td>2926.000000</td>\n",
       "      <td>141.000000</td>\n",
       "      <td>3.580000</td>\n",
       "      <td>3.410000</td>\n",
       "      <td>9.400000</td>\n",
       "      <td>116.000000</td>\n",
       "      <td>5500.000000</td>\n",
       "      <td>30.000000</td>\n",
       "      <td>34.000000</td>\n",
       "      <td>16500.000000</td>\n",
       "      <td>12.368421</td>\n",
       "      <td>0.000000</td>\n",
       "      <td>1.000000</td>\n",
       "    </tr>\n",
       "    <tr>\n",
       "      <th>max</th>\n",
       "      <td>3.000000</td>\n",
       "      <td>256.00000</td>\n",
       "      <td>120.900000</td>\n",
       "      <td>1.000000</td>\n",
       "      <td>1.000000</td>\n",
       "      <td>59.800000</td>\n",
       "      <td>4066.000000</td>\n",
       "      <td>326.000000</td>\n",
       "      <td>3.940000</td>\n",
       "      <td>4.170000</td>\n",
       "      <td>23.000000</td>\n",
       "      <td>262.000000</td>\n",
       "      <td>6600.000000</td>\n",
       "      <td>49.000000</td>\n",
       "      <td>54.000000</td>\n",
       "      <td>45400.000000</td>\n",
       "      <td>18.076923</td>\n",
       "      <td>1.000000</td>\n",
       "      <td>1.000000</td>\n",
       "    </tr>\n",
       "  </tbody>\n",
       "</table>\n",
       "</div>"
      ],
      "text/plain": [
       "        symboling  normalized-losses  wheel-base      length       width  \\\n",
       "count  201.000000          201.00000  201.000000  201.000000  201.000000   \n",
       "mean     0.840796          122.00000   98.797015    0.837102    0.915126   \n",
       "std      1.254802           31.99625    6.066366    0.059213    0.029187   \n",
       "min     -2.000000           65.00000   86.600000    0.678039    0.837500   \n",
       "25%      0.000000          101.00000   94.500000    0.801538    0.890278   \n",
       "50%      1.000000          122.00000   97.000000    0.832292    0.909722   \n",
       "75%      2.000000          137.00000  102.400000    0.881788    0.925000   \n",
       "max      3.000000          256.00000  120.900000    1.000000    1.000000   \n",
       "\n",
       "           height  curb-weight  engine-size        bore      stroke  \\\n",
       "count  201.000000   201.000000   201.000000  201.000000  197.000000   \n",
       "mean    53.766667  2555.666667   126.875622    3.330692    3.256904   \n",
       "std      2.447822   517.296727    41.546834    0.268072    0.319256   \n",
       "min     47.800000  1488.000000    61.000000    2.540000    2.070000   \n",
       "25%     52.000000  2169.000000    98.000000    3.150000    3.110000   \n",
       "50%     54.100000  2414.000000   120.000000    3.310000    3.290000   \n",
       "75%     55.500000  2926.000000   141.000000    3.580000    3.410000   \n",
       "max     59.800000  4066.000000   326.000000    3.940000    4.170000   \n",
       "\n",
       "       compression-ratio  horsepower     peak-rpm    city-mpg  highway-mpg  \\\n",
       "count         201.000000  201.000000   201.000000  201.000000   201.000000   \n",
       "mean           10.164279  103.405534  5117.665368   25.179104    30.686567   \n",
       "std             4.004965   37.365700   478.113805    6.423220     6.815150   \n",
       "min             7.000000   48.000000  4150.000000   13.000000    16.000000   \n",
       "25%             8.600000   70.000000  4800.000000   19.000000    25.000000   \n",
       "50%             9.000000   95.000000  5125.369458   24.000000    30.000000   \n",
       "75%             9.400000  116.000000  5500.000000   30.000000    34.000000   \n",
       "max            23.000000  262.000000  6600.000000   49.000000    54.000000   \n",
       "\n",
       "              price  city-L/100km      diesel         gas  \n",
       "count    201.000000    201.000000  201.000000  201.000000  \n",
       "mean   13207.129353      9.944145    0.099502    0.900498  \n",
       "std     7947.066342      2.534599    0.300083    0.300083  \n",
       "min     5118.000000      4.795918    0.000000    0.000000  \n",
       "25%     7775.000000      7.833333    0.000000    1.000000  \n",
       "50%    10295.000000      9.791667    0.000000    1.000000  \n",
       "75%    16500.000000     12.368421    0.000000    1.000000  \n",
       "max    45400.000000     18.076923    1.000000    1.000000  "
      ]
     },
     "execution_count": 6,
     "metadata": {},
     "output_type": "execute_result"
    }
   ],
   "source": [
    "df.describe()"
   ]
  },
  {
   "cell_type": "markdown",
   "metadata": {},
   "source": [
    "<h2 id=\"pattern_visualization\">2. Analizando individualmente las variables usando visualización</h2>"
   ]
  },
  {
   "cell_type": "markdown",
   "metadata": {},
   "source": [
    "Importar las librerias \"Matplotlib\" y \"Seaborn\""
   ]
  },
  {
   "cell_type": "code",
   "execution_count": 7,
   "metadata": {},
   "outputs": [],
   "source": [
    "import matplotlib.pyplot as plt\n",
    "import seaborn as sns\n",
    "%matplotlib inline "
   ]
  },
  {
   "cell_type": "markdown",
   "metadata": {},
   "source": [
    "<h4>Como escoger el correcto método de visualización?</h4>\n",
    "<p>Identificamos los tipos de variables que tenemos.</p>\n"
   ]
  },
  {
   "cell_type": "code",
   "execution_count": 8,
   "metadata": {},
   "outputs": [
    {
     "name": "stdout",
     "output_type": "stream",
     "text": [
      "symboling              int64\n",
      "normalized-losses      int64\n",
      "make                  object\n",
      "aspiration            object\n",
      "num-of-doors          object\n",
      "body-style            object\n",
      "drive-wheels          object\n",
      "engine-location       object\n",
      "wheel-base           float64\n",
      "length               float64\n",
      "width                float64\n",
      "height               float64\n",
      "curb-weight            int64\n",
      "engine-type           object\n",
      "num-of-cylinders      object\n",
      "engine-size            int64\n",
      "fuel-system           object\n",
      "bore                 float64\n",
      "stroke               float64\n",
      "compression-ratio    float64\n",
      "horsepower           float64\n",
      "peak-rpm             float64\n",
      "city-mpg               int64\n",
      "highway-mpg            int64\n",
      "price                float64\n",
      "city-L/100km         float64\n",
      "horsepower-binned     object\n",
      "diesel                 int64\n",
      "gas                    int64\n",
      "dtype: object\n"
     ]
    }
   ],
   "source": [
    "# lista os tipos de datos de cada variable predictora\n",
    "print(df.dtypes)"
   ]
  },
  {
   "cell_type": "markdown",
   "metadata": {},
   "source": [
    "<div class=\"alert alert-danger alertdanger\" style=\"margin-top: 20px\">\n",
    "<h3>Pregunta #1:</h3>\n",
    "\n",
    "<b>¿Qué tipo de datos tiene la variable  \"peak-rpm\"? </b>\n",
    "</div>"
   ]
  },
  {
   "cell_type": "markdown",
   "metadata": {},
   "source": [
    "Se calcula las correlaciones entre las variables del tipo \"int64\" o \"float64\" usando el metodo \"corr\":"
   ]
  },
  {
   "cell_type": "code",
   "execution_count": 9,
   "metadata": {},
   "outputs": [
    {
     "data": {
      "text/html": [
       "<div>\n",
       "<style scoped>\n",
       "    .dataframe tbody tr th:only-of-type {\n",
       "        vertical-align: middle;\n",
       "    }\n",
       "\n",
       "    .dataframe tbody tr th {\n",
       "        vertical-align: top;\n",
       "    }\n",
       "\n",
       "    .dataframe thead th {\n",
       "        text-align: right;\n",
       "    }\n",
       "</style>\n",
       "<table border=\"1\" class=\"dataframe\">\n",
       "  <thead>\n",
       "    <tr style=\"text-align: right;\">\n",
       "      <th></th>\n",
       "      <th>symboling</th>\n",
       "      <th>normalized-losses</th>\n",
       "      <th>wheel-base</th>\n",
       "      <th>length</th>\n",
       "      <th>width</th>\n",
       "      <th>height</th>\n",
       "      <th>curb-weight</th>\n",
       "      <th>engine-size</th>\n",
       "      <th>bore</th>\n",
       "      <th>stroke</th>\n",
       "      <th>compression-ratio</th>\n",
       "      <th>horsepower</th>\n",
       "      <th>peak-rpm</th>\n",
       "      <th>city-mpg</th>\n",
       "      <th>highway-mpg</th>\n",
       "      <th>price</th>\n",
       "      <th>city-L/100km</th>\n",
       "      <th>diesel</th>\n",
       "      <th>gas</th>\n",
       "    </tr>\n",
       "  </thead>\n",
       "  <tbody>\n",
       "    <tr>\n",
       "      <th>symboling</th>\n",
       "      <td>1.000000</td>\n",
       "      <td>0.466264</td>\n",
       "      <td>-0.535987</td>\n",
       "      <td>-0.365404</td>\n",
       "      <td>-0.242423</td>\n",
       "      <td>-0.550160</td>\n",
       "      <td>-0.233118</td>\n",
       "      <td>-0.110581</td>\n",
       "      <td>-0.140019</td>\n",
       "      <td>-0.008245</td>\n",
       "      <td>-0.182196</td>\n",
       "      <td>0.075819</td>\n",
       "      <td>0.279740</td>\n",
       "      <td>-0.035527</td>\n",
       "      <td>0.036233</td>\n",
       "      <td>-0.082391</td>\n",
       "      <td>0.066171</td>\n",
       "      <td>-0.196735</td>\n",
       "      <td>0.196735</td>\n",
       "    </tr>\n",
       "    <tr>\n",
       "      <th>normalized-losses</th>\n",
       "      <td>0.466264</td>\n",
       "      <td>1.000000</td>\n",
       "      <td>-0.056661</td>\n",
       "      <td>0.019424</td>\n",
       "      <td>0.086802</td>\n",
       "      <td>-0.373737</td>\n",
       "      <td>0.099404</td>\n",
       "      <td>0.112360</td>\n",
       "      <td>-0.029862</td>\n",
       "      <td>0.055563</td>\n",
       "      <td>-0.114713</td>\n",
       "      <td>0.217299</td>\n",
       "      <td>0.239543</td>\n",
       "      <td>-0.225016</td>\n",
       "      <td>-0.181877</td>\n",
       "      <td>0.133999</td>\n",
       "      <td>0.238567</td>\n",
       "      <td>-0.101546</td>\n",
       "      <td>0.101546</td>\n",
       "    </tr>\n",
       "    <tr>\n",
       "      <th>wheel-base</th>\n",
       "      <td>-0.535987</td>\n",
       "      <td>-0.056661</td>\n",
       "      <td>1.000000</td>\n",
       "      <td>0.876024</td>\n",
       "      <td>0.814507</td>\n",
       "      <td>0.590742</td>\n",
       "      <td>0.782097</td>\n",
       "      <td>0.572027</td>\n",
       "      <td>0.493244</td>\n",
       "      <td>0.158502</td>\n",
       "      <td>0.250313</td>\n",
       "      <td>0.371147</td>\n",
       "      <td>-0.360305</td>\n",
       "      <td>-0.470606</td>\n",
       "      <td>-0.543304</td>\n",
       "      <td>0.584642</td>\n",
       "      <td>0.476153</td>\n",
       "      <td>0.307237</td>\n",
       "      <td>-0.307237</td>\n",
       "    </tr>\n",
       "    <tr>\n",
       "      <th>length</th>\n",
       "      <td>-0.365404</td>\n",
       "      <td>0.019424</td>\n",
       "      <td>0.876024</td>\n",
       "      <td>1.000000</td>\n",
       "      <td>0.857170</td>\n",
       "      <td>0.492063</td>\n",
       "      <td>0.880665</td>\n",
       "      <td>0.685025</td>\n",
       "      <td>0.608971</td>\n",
       "      <td>0.124139</td>\n",
       "      <td>0.159733</td>\n",
       "      <td>0.579821</td>\n",
       "      <td>-0.285970</td>\n",
       "      <td>-0.665192</td>\n",
       "      <td>-0.698142</td>\n",
       "      <td>0.690628</td>\n",
       "      <td>0.657373</td>\n",
       "      <td>0.211187</td>\n",
       "      <td>-0.211187</td>\n",
       "    </tr>\n",
       "    <tr>\n",
       "      <th>width</th>\n",
       "      <td>-0.242423</td>\n",
       "      <td>0.086802</td>\n",
       "      <td>0.814507</td>\n",
       "      <td>0.857170</td>\n",
       "      <td>1.000000</td>\n",
       "      <td>0.306002</td>\n",
       "      <td>0.866201</td>\n",
       "      <td>0.729436</td>\n",
       "      <td>0.544885</td>\n",
       "      <td>0.188829</td>\n",
       "      <td>0.189867</td>\n",
       "      <td>0.615077</td>\n",
       "      <td>-0.245800</td>\n",
       "      <td>-0.633531</td>\n",
       "      <td>-0.680635</td>\n",
       "      <td>0.751265</td>\n",
       "      <td>0.673363</td>\n",
       "      <td>0.244356</td>\n",
       "      <td>-0.244356</td>\n",
       "    </tr>\n",
       "    <tr>\n",
       "      <th>height</th>\n",
       "      <td>-0.550160</td>\n",
       "      <td>-0.373737</td>\n",
       "      <td>0.590742</td>\n",
       "      <td>0.492063</td>\n",
       "      <td>0.306002</td>\n",
       "      <td>1.000000</td>\n",
       "      <td>0.307581</td>\n",
       "      <td>0.074694</td>\n",
       "      <td>0.180449</td>\n",
       "      <td>-0.062704</td>\n",
       "      <td>0.259737</td>\n",
       "      <td>-0.087027</td>\n",
       "      <td>-0.309974</td>\n",
       "      <td>-0.049800</td>\n",
       "      <td>-0.104812</td>\n",
       "      <td>0.135486</td>\n",
       "      <td>0.003811</td>\n",
       "      <td>0.281578</td>\n",
       "      <td>-0.281578</td>\n",
       "    </tr>\n",
       "    <tr>\n",
       "      <th>curb-weight</th>\n",
       "      <td>-0.233118</td>\n",
       "      <td>0.099404</td>\n",
       "      <td>0.782097</td>\n",
       "      <td>0.880665</td>\n",
       "      <td>0.866201</td>\n",
       "      <td>0.307581</td>\n",
       "      <td>1.000000</td>\n",
       "      <td>0.849072</td>\n",
       "      <td>0.644060</td>\n",
       "      <td>0.167562</td>\n",
       "      <td>0.156433</td>\n",
       "      <td>0.757976</td>\n",
       "      <td>-0.279361</td>\n",
       "      <td>-0.749543</td>\n",
       "      <td>-0.794889</td>\n",
       "      <td>0.834415</td>\n",
       "      <td>0.785353</td>\n",
       "      <td>0.221046</td>\n",
       "      <td>-0.221046</td>\n",
       "    </tr>\n",
       "    <tr>\n",
       "      <th>engine-size</th>\n",
       "      <td>-0.110581</td>\n",
       "      <td>0.112360</td>\n",
       "      <td>0.572027</td>\n",
       "      <td>0.685025</td>\n",
       "      <td>0.729436</td>\n",
       "      <td>0.074694</td>\n",
       "      <td>0.849072</td>\n",
       "      <td>1.000000</td>\n",
       "      <td>0.572609</td>\n",
       "      <td>0.209523</td>\n",
       "      <td>0.028889</td>\n",
       "      <td>0.822676</td>\n",
       "      <td>-0.256733</td>\n",
       "      <td>-0.650546</td>\n",
       "      <td>-0.679571</td>\n",
       "      <td>0.872335</td>\n",
       "      <td>0.745059</td>\n",
       "      <td>0.070779</td>\n",
       "      <td>-0.070779</td>\n",
       "    </tr>\n",
       "    <tr>\n",
       "      <th>bore</th>\n",
       "      <td>-0.140019</td>\n",
       "      <td>-0.029862</td>\n",
       "      <td>0.493244</td>\n",
       "      <td>0.608971</td>\n",
       "      <td>0.544885</td>\n",
       "      <td>0.180449</td>\n",
       "      <td>0.644060</td>\n",
       "      <td>0.572609</td>\n",
       "      <td>1.000000</td>\n",
       "      <td>-0.055390</td>\n",
       "      <td>0.001263</td>\n",
       "      <td>0.566936</td>\n",
       "      <td>-0.267392</td>\n",
       "      <td>-0.582027</td>\n",
       "      <td>-0.591309</td>\n",
       "      <td>0.543155</td>\n",
       "      <td>0.554610</td>\n",
       "      <td>0.054458</td>\n",
       "      <td>-0.054458</td>\n",
       "    </tr>\n",
       "    <tr>\n",
       "      <th>stroke</th>\n",
       "      <td>-0.008245</td>\n",
       "      <td>0.055563</td>\n",
       "      <td>0.158502</td>\n",
       "      <td>0.124139</td>\n",
       "      <td>0.188829</td>\n",
       "      <td>-0.062704</td>\n",
       "      <td>0.167562</td>\n",
       "      <td>0.209523</td>\n",
       "      <td>-0.055390</td>\n",
       "      <td>1.000000</td>\n",
       "      <td>0.187923</td>\n",
       "      <td>0.098462</td>\n",
       "      <td>-0.065713</td>\n",
       "      <td>-0.034696</td>\n",
       "      <td>-0.035201</td>\n",
       "      <td>0.082310</td>\n",
       "      <td>0.037300</td>\n",
       "      <td>0.241303</td>\n",
       "      <td>-0.241303</td>\n",
       "    </tr>\n",
       "    <tr>\n",
       "      <th>compression-ratio</th>\n",
       "      <td>-0.182196</td>\n",
       "      <td>-0.114713</td>\n",
       "      <td>0.250313</td>\n",
       "      <td>0.159733</td>\n",
       "      <td>0.189867</td>\n",
       "      <td>0.259737</td>\n",
       "      <td>0.156433</td>\n",
       "      <td>0.028889</td>\n",
       "      <td>0.001263</td>\n",
       "      <td>0.187923</td>\n",
       "      <td>1.000000</td>\n",
       "      <td>-0.214514</td>\n",
       "      <td>-0.435780</td>\n",
       "      <td>0.331425</td>\n",
       "      <td>0.268465</td>\n",
       "      <td>0.071107</td>\n",
       "      <td>-0.299372</td>\n",
       "      <td>0.985231</td>\n",
       "      <td>-0.985231</td>\n",
       "    </tr>\n",
       "    <tr>\n",
       "      <th>horsepower</th>\n",
       "      <td>0.075819</td>\n",
       "      <td>0.217299</td>\n",
       "      <td>0.371147</td>\n",
       "      <td>0.579821</td>\n",
       "      <td>0.615077</td>\n",
       "      <td>-0.087027</td>\n",
       "      <td>0.757976</td>\n",
       "      <td>0.822676</td>\n",
       "      <td>0.566936</td>\n",
       "      <td>0.098462</td>\n",
       "      <td>-0.214514</td>\n",
       "      <td>1.000000</td>\n",
       "      <td>0.107885</td>\n",
       "      <td>-0.822214</td>\n",
       "      <td>-0.804575</td>\n",
       "      <td>0.809575</td>\n",
       "      <td>0.889488</td>\n",
       "      <td>-0.169053</td>\n",
       "      <td>0.169053</td>\n",
       "    </tr>\n",
       "    <tr>\n",
       "      <th>peak-rpm</th>\n",
       "      <td>0.279740</td>\n",
       "      <td>0.239543</td>\n",
       "      <td>-0.360305</td>\n",
       "      <td>-0.285970</td>\n",
       "      <td>-0.245800</td>\n",
       "      <td>-0.309974</td>\n",
       "      <td>-0.279361</td>\n",
       "      <td>-0.256733</td>\n",
       "      <td>-0.267392</td>\n",
       "      <td>-0.065713</td>\n",
       "      <td>-0.435780</td>\n",
       "      <td>0.107885</td>\n",
       "      <td>1.000000</td>\n",
       "      <td>-0.115413</td>\n",
       "      <td>-0.058598</td>\n",
       "      <td>-0.101616</td>\n",
       "      <td>0.115830</td>\n",
       "      <td>-0.475812</td>\n",
       "      <td>0.475812</td>\n",
       "    </tr>\n",
       "    <tr>\n",
       "      <th>city-mpg</th>\n",
       "      <td>-0.035527</td>\n",
       "      <td>-0.225016</td>\n",
       "      <td>-0.470606</td>\n",
       "      <td>-0.665192</td>\n",
       "      <td>-0.633531</td>\n",
       "      <td>-0.049800</td>\n",
       "      <td>-0.749543</td>\n",
       "      <td>-0.650546</td>\n",
       "      <td>-0.582027</td>\n",
       "      <td>-0.034696</td>\n",
       "      <td>0.331425</td>\n",
       "      <td>-0.822214</td>\n",
       "      <td>-0.115413</td>\n",
       "      <td>1.000000</td>\n",
       "      <td>0.972044</td>\n",
       "      <td>-0.686571</td>\n",
       "      <td>-0.949713</td>\n",
       "      <td>0.265676</td>\n",
       "      <td>-0.265676</td>\n",
       "    </tr>\n",
       "    <tr>\n",
       "      <th>highway-mpg</th>\n",
       "      <td>0.036233</td>\n",
       "      <td>-0.181877</td>\n",
       "      <td>-0.543304</td>\n",
       "      <td>-0.698142</td>\n",
       "      <td>-0.680635</td>\n",
       "      <td>-0.104812</td>\n",
       "      <td>-0.794889</td>\n",
       "      <td>-0.679571</td>\n",
       "      <td>-0.591309</td>\n",
       "      <td>-0.035201</td>\n",
       "      <td>0.268465</td>\n",
       "      <td>-0.804575</td>\n",
       "      <td>-0.058598</td>\n",
       "      <td>0.972044</td>\n",
       "      <td>1.000000</td>\n",
       "      <td>-0.704692</td>\n",
       "      <td>-0.930028</td>\n",
       "      <td>0.198690</td>\n",
       "      <td>-0.198690</td>\n",
       "    </tr>\n",
       "    <tr>\n",
       "      <th>price</th>\n",
       "      <td>-0.082391</td>\n",
       "      <td>0.133999</td>\n",
       "      <td>0.584642</td>\n",
       "      <td>0.690628</td>\n",
       "      <td>0.751265</td>\n",
       "      <td>0.135486</td>\n",
       "      <td>0.834415</td>\n",
       "      <td>0.872335</td>\n",
       "      <td>0.543155</td>\n",
       "      <td>0.082310</td>\n",
       "      <td>0.071107</td>\n",
       "      <td>0.809575</td>\n",
       "      <td>-0.101616</td>\n",
       "      <td>-0.686571</td>\n",
       "      <td>-0.704692</td>\n",
       "      <td>1.000000</td>\n",
       "      <td>0.789898</td>\n",
       "      <td>0.110326</td>\n",
       "      <td>-0.110326</td>\n",
       "    </tr>\n",
       "    <tr>\n",
       "      <th>city-L/100km</th>\n",
       "      <td>0.066171</td>\n",
       "      <td>0.238567</td>\n",
       "      <td>0.476153</td>\n",
       "      <td>0.657373</td>\n",
       "      <td>0.673363</td>\n",
       "      <td>0.003811</td>\n",
       "      <td>0.785353</td>\n",
       "      <td>0.745059</td>\n",
       "      <td>0.554610</td>\n",
       "      <td>0.037300</td>\n",
       "      <td>-0.299372</td>\n",
       "      <td>0.889488</td>\n",
       "      <td>0.115830</td>\n",
       "      <td>-0.949713</td>\n",
       "      <td>-0.930028</td>\n",
       "      <td>0.789898</td>\n",
       "      <td>1.000000</td>\n",
       "      <td>-0.241282</td>\n",
       "      <td>0.241282</td>\n",
       "    </tr>\n",
       "    <tr>\n",
       "      <th>diesel</th>\n",
       "      <td>-0.196735</td>\n",
       "      <td>-0.101546</td>\n",
       "      <td>0.307237</td>\n",
       "      <td>0.211187</td>\n",
       "      <td>0.244356</td>\n",
       "      <td>0.281578</td>\n",
       "      <td>0.221046</td>\n",
       "      <td>0.070779</td>\n",
       "      <td>0.054458</td>\n",
       "      <td>0.241303</td>\n",
       "      <td>0.985231</td>\n",
       "      <td>-0.169053</td>\n",
       "      <td>-0.475812</td>\n",
       "      <td>0.265676</td>\n",
       "      <td>0.198690</td>\n",
       "      <td>0.110326</td>\n",
       "      <td>-0.241282</td>\n",
       "      <td>1.000000</td>\n",
       "      <td>-1.000000</td>\n",
       "    </tr>\n",
       "    <tr>\n",
       "      <th>gas</th>\n",
       "      <td>0.196735</td>\n",
       "      <td>0.101546</td>\n",
       "      <td>-0.307237</td>\n",
       "      <td>-0.211187</td>\n",
       "      <td>-0.244356</td>\n",
       "      <td>-0.281578</td>\n",
       "      <td>-0.221046</td>\n",
       "      <td>-0.070779</td>\n",
       "      <td>-0.054458</td>\n",
       "      <td>-0.241303</td>\n",
       "      <td>-0.985231</td>\n",
       "      <td>0.169053</td>\n",
       "      <td>0.475812</td>\n",
       "      <td>-0.265676</td>\n",
       "      <td>-0.198690</td>\n",
       "      <td>-0.110326</td>\n",
       "      <td>0.241282</td>\n",
       "      <td>-1.000000</td>\n",
       "      <td>1.000000</td>\n",
       "    </tr>\n",
       "  </tbody>\n",
       "</table>\n",
       "</div>"
      ],
      "text/plain": [
       "                   symboling  normalized-losses  wheel-base    length  \\\n",
       "symboling           1.000000           0.466264   -0.535987 -0.365404   \n",
       "normalized-losses   0.466264           1.000000   -0.056661  0.019424   \n",
       "wheel-base         -0.535987          -0.056661    1.000000  0.876024   \n",
       "length             -0.365404           0.019424    0.876024  1.000000   \n",
       "width              -0.242423           0.086802    0.814507  0.857170   \n",
       "height             -0.550160          -0.373737    0.590742  0.492063   \n",
       "curb-weight        -0.233118           0.099404    0.782097  0.880665   \n",
       "engine-size        -0.110581           0.112360    0.572027  0.685025   \n",
       "bore               -0.140019          -0.029862    0.493244  0.608971   \n",
       "stroke             -0.008245           0.055563    0.158502  0.124139   \n",
       "compression-ratio  -0.182196          -0.114713    0.250313  0.159733   \n",
       "horsepower          0.075819           0.217299    0.371147  0.579821   \n",
       "peak-rpm            0.279740           0.239543   -0.360305 -0.285970   \n",
       "city-mpg           -0.035527          -0.225016   -0.470606 -0.665192   \n",
       "highway-mpg         0.036233          -0.181877   -0.543304 -0.698142   \n",
       "price              -0.082391           0.133999    0.584642  0.690628   \n",
       "city-L/100km        0.066171           0.238567    0.476153  0.657373   \n",
       "diesel             -0.196735          -0.101546    0.307237  0.211187   \n",
       "gas                 0.196735           0.101546   -0.307237 -0.211187   \n",
       "\n",
       "                      width    height  curb-weight  engine-size      bore  \\\n",
       "symboling         -0.242423 -0.550160    -0.233118    -0.110581 -0.140019   \n",
       "normalized-losses  0.086802 -0.373737     0.099404     0.112360 -0.029862   \n",
       "wheel-base         0.814507  0.590742     0.782097     0.572027  0.493244   \n",
       "length             0.857170  0.492063     0.880665     0.685025  0.608971   \n",
       "width              1.000000  0.306002     0.866201     0.729436  0.544885   \n",
       "height             0.306002  1.000000     0.307581     0.074694  0.180449   \n",
       "curb-weight        0.866201  0.307581     1.000000     0.849072  0.644060   \n",
       "engine-size        0.729436  0.074694     0.849072     1.000000  0.572609   \n",
       "bore               0.544885  0.180449     0.644060     0.572609  1.000000   \n",
       "stroke             0.188829 -0.062704     0.167562     0.209523 -0.055390   \n",
       "compression-ratio  0.189867  0.259737     0.156433     0.028889  0.001263   \n",
       "horsepower         0.615077 -0.087027     0.757976     0.822676  0.566936   \n",
       "peak-rpm          -0.245800 -0.309974    -0.279361    -0.256733 -0.267392   \n",
       "city-mpg          -0.633531 -0.049800    -0.749543    -0.650546 -0.582027   \n",
       "highway-mpg       -0.680635 -0.104812    -0.794889    -0.679571 -0.591309   \n",
       "price              0.751265  0.135486     0.834415     0.872335  0.543155   \n",
       "city-L/100km       0.673363  0.003811     0.785353     0.745059  0.554610   \n",
       "diesel             0.244356  0.281578     0.221046     0.070779  0.054458   \n",
       "gas               -0.244356 -0.281578    -0.221046    -0.070779 -0.054458   \n",
       "\n",
       "                     stroke  compression-ratio  horsepower  peak-rpm  \\\n",
       "symboling         -0.008245          -0.182196    0.075819  0.279740   \n",
       "normalized-losses  0.055563          -0.114713    0.217299  0.239543   \n",
       "wheel-base         0.158502           0.250313    0.371147 -0.360305   \n",
       "length             0.124139           0.159733    0.579821 -0.285970   \n",
       "width              0.188829           0.189867    0.615077 -0.245800   \n",
       "height            -0.062704           0.259737   -0.087027 -0.309974   \n",
       "curb-weight        0.167562           0.156433    0.757976 -0.279361   \n",
       "engine-size        0.209523           0.028889    0.822676 -0.256733   \n",
       "bore              -0.055390           0.001263    0.566936 -0.267392   \n",
       "stroke             1.000000           0.187923    0.098462 -0.065713   \n",
       "compression-ratio  0.187923           1.000000   -0.214514 -0.435780   \n",
       "horsepower         0.098462          -0.214514    1.000000  0.107885   \n",
       "peak-rpm          -0.065713          -0.435780    0.107885  1.000000   \n",
       "city-mpg          -0.034696           0.331425   -0.822214 -0.115413   \n",
       "highway-mpg       -0.035201           0.268465   -0.804575 -0.058598   \n",
       "price              0.082310           0.071107    0.809575 -0.101616   \n",
       "city-L/100km       0.037300          -0.299372    0.889488  0.115830   \n",
       "diesel             0.241303           0.985231   -0.169053 -0.475812   \n",
       "gas               -0.241303          -0.985231    0.169053  0.475812   \n",
       "\n",
       "                   city-mpg  highway-mpg     price  city-L/100km    diesel  \\\n",
       "symboling         -0.035527     0.036233 -0.082391      0.066171 -0.196735   \n",
       "normalized-losses -0.225016    -0.181877  0.133999      0.238567 -0.101546   \n",
       "wheel-base        -0.470606    -0.543304  0.584642      0.476153  0.307237   \n",
       "length            -0.665192    -0.698142  0.690628      0.657373  0.211187   \n",
       "width             -0.633531    -0.680635  0.751265      0.673363  0.244356   \n",
       "height            -0.049800    -0.104812  0.135486      0.003811  0.281578   \n",
       "curb-weight       -0.749543    -0.794889  0.834415      0.785353  0.221046   \n",
       "engine-size       -0.650546    -0.679571  0.872335      0.745059  0.070779   \n",
       "bore              -0.582027    -0.591309  0.543155      0.554610  0.054458   \n",
       "stroke            -0.034696    -0.035201  0.082310      0.037300  0.241303   \n",
       "compression-ratio  0.331425     0.268465  0.071107     -0.299372  0.985231   \n",
       "horsepower        -0.822214    -0.804575  0.809575      0.889488 -0.169053   \n",
       "peak-rpm          -0.115413    -0.058598 -0.101616      0.115830 -0.475812   \n",
       "city-mpg           1.000000     0.972044 -0.686571     -0.949713  0.265676   \n",
       "highway-mpg        0.972044     1.000000 -0.704692     -0.930028  0.198690   \n",
       "price             -0.686571    -0.704692  1.000000      0.789898  0.110326   \n",
       "city-L/100km      -0.949713    -0.930028  0.789898      1.000000 -0.241282   \n",
       "diesel             0.265676     0.198690  0.110326     -0.241282  1.000000   \n",
       "gas               -0.265676    -0.198690 -0.110326      0.241282 -1.000000   \n",
       "\n",
       "                        gas  \n",
       "symboling          0.196735  \n",
       "normalized-losses  0.101546  \n",
       "wheel-base        -0.307237  \n",
       "length            -0.211187  \n",
       "width             -0.244356  \n",
       "height            -0.281578  \n",
       "curb-weight       -0.221046  \n",
       "engine-size       -0.070779  \n",
       "bore              -0.054458  \n",
       "stroke            -0.241303  \n",
       "compression-ratio -0.985231  \n",
       "horsepower         0.169053  \n",
       "peak-rpm           0.475812  \n",
       "city-mpg          -0.265676  \n",
       "highway-mpg       -0.198690  \n",
       "price             -0.110326  \n",
       "city-L/100km       0.241282  \n",
       "diesel            -1.000000  \n",
       "gas                1.000000  "
      ]
     },
     "execution_count": 9,
     "metadata": {},
     "output_type": "execute_result"
    }
   ],
   "source": [
    "df.corr()"
   ]
  },
  {
   "cell_type": "markdown",
   "metadata": {},
   "source": [
    "La diagonal siempre es 1."
   ]
  },
  {
   "cell_type": "code",
   "execution_count": 10,
   "metadata": {},
   "outputs": [
    {
     "data": {
      "text/html": [
       "<div>\n",
       "<style scoped>\n",
       "    .dataframe tbody tr th:only-of-type {\n",
       "        vertical-align: middle;\n",
       "    }\n",
       "\n",
       "    .dataframe tbody tr th {\n",
       "        vertical-align: top;\n",
       "    }\n",
       "\n",
       "    .dataframe thead th {\n",
       "        text-align: right;\n",
       "    }\n",
       "</style>\n",
       "<table border=\"1\" class=\"dataframe\">\n",
       "  <thead>\n",
       "    <tr style=\"text-align: right;\">\n",
       "      <th></th>\n",
       "      <th>wheel-base</th>\n",
       "      <th>length</th>\n",
       "      <th>width</th>\n",
       "      <th>curb-weight</th>\n",
       "      <th>engine-size</th>\n",
       "      <th>price</th>\n",
       "    </tr>\n",
       "  </thead>\n",
       "  <tbody>\n",
       "    <tr>\n",
       "      <th>wheel-base</th>\n",
       "      <td>1.000000</td>\n",
       "      <td>0.876024</td>\n",
       "      <td>0.814507</td>\n",
       "      <td>0.782097</td>\n",
       "      <td>0.572027</td>\n",
       "      <td>0.584642</td>\n",
       "    </tr>\n",
       "    <tr>\n",
       "      <th>length</th>\n",
       "      <td>0.876024</td>\n",
       "      <td>1.000000</td>\n",
       "      <td>0.857170</td>\n",
       "      <td>0.880665</td>\n",
       "      <td>0.685025</td>\n",
       "      <td>0.690628</td>\n",
       "    </tr>\n",
       "    <tr>\n",
       "      <th>width</th>\n",
       "      <td>0.814507</td>\n",
       "      <td>0.857170</td>\n",
       "      <td>1.000000</td>\n",
       "      <td>0.866201</td>\n",
       "      <td>0.729436</td>\n",
       "      <td>0.751265</td>\n",
       "    </tr>\n",
       "    <tr>\n",
       "      <th>curb-weight</th>\n",
       "      <td>0.782097</td>\n",
       "      <td>0.880665</td>\n",
       "      <td>0.866201</td>\n",
       "      <td>1.000000</td>\n",
       "      <td>0.849072</td>\n",
       "      <td>0.834415</td>\n",
       "    </tr>\n",
       "    <tr>\n",
       "      <th>engine-size</th>\n",
       "      <td>0.572027</td>\n",
       "      <td>0.685025</td>\n",
       "      <td>0.729436</td>\n",
       "      <td>0.849072</td>\n",
       "      <td>1.000000</td>\n",
       "      <td>0.872335</td>\n",
       "    </tr>\n",
       "    <tr>\n",
       "      <th>price</th>\n",
       "      <td>0.584642</td>\n",
       "      <td>0.690628</td>\n",
       "      <td>0.751265</td>\n",
       "      <td>0.834415</td>\n",
       "      <td>0.872335</td>\n",
       "      <td>1.000000</td>\n",
       "    </tr>\n",
       "  </tbody>\n",
       "</table>\n",
       "</div>"
      ],
      "text/plain": [
       "             wheel-base    length     width  curb-weight  engine-size  \\\n",
       "wheel-base     1.000000  0.876024  0.814507     0.782097     0.572027   \n",
       "length         0.876024  1.000000  0.857170     0.880665     0.685025   \n",
       "width          0.814507  0.857170  1.000000     0.866201     0.729436   \n",
       "curb-weight    0.782097  0.880665  0.866201     1.000000     0.849072   \n",
       "engine-size    0.572027  0.685025  0.729436     0.849072     1.000000   \n",
       "price          0.584642  0.690628  0.751265     0.834415     0.872335   \n",
       "\n",
       "                price  \n",
       "wheel-base   0.584642  \n",
       "length       0.690628  \n",
       "width        0.751265  \n",
       "curb-weight  0.834415  \n",
       "engine-size  0.872335  \n",
       "price        1.000000  "
      ]
     },
     "execution_count": 10,
     "metadata": {},
     "output_type": "execute_result"
    }
   ],
   "source": [
    "df[['wheel-base', 'length', 'width', 'curb-weight', 'engine-size', 'price']].corr() "
   ]
  },
  {
   "cell_type": "markdown",
   "metadata": {},
   "source": [
    "<div class=\"alert alert-danger alertdanger\" style=\"margin-top: 20px\">\n",
    "<h1> Pregunta  #2: </h1>\n",
    "\n",
    "<p>Encontrar la correlación entre las variables : bore, stroke,compression-ratio  y horsepower.</p>\n",
    "</div>"
   ]
  },
  {
   "cell_type": "code",
   "execution_count": 11,
   "metadata": {},
   "outputs": [
    {
     "data": {
      "text/html": [
       "<div>\n",
       "<style scoped>\n",
       "    .dataframe tbody tr th:only-of-type {\n",
       "        vertical-align: middle;\n",
       "    }\n",
       "\n",
       "    .dataframe tbody tr th {\n",
       "        vertical-align: top;\n",
       "    }\n",
       "\n",
       "    .dataframe thead th {\n",
       "        text-align: right;\n",
       "    }\n",
       "</style>\n",
       "<table border=\"1\" class=\"dataframe\">\n",
       "  <thead>\n",
       "    <tr style=\"text-align: right;\">\n",
       "      <th></th>\n",
       "      <th>bore</th>\n",
       "      <th>stroke</th>\n",
       "      <th>compression-ratio</th>\n",
       "      <th>horsepower</th>\n",
       "    </tr>\n",
       "  </thead>\n",
       "  <tbody>\n",
       "    <tr>\n",
       "      <th>bore</th>\n",
       "      <td>1.000000</td>\n",
       "      <td>-0.055390</td>\n",
       "      <td>0.001263</td>\n",
       "      <td>0.566936</td>\n",
       "    </tr>\n",
       "    <tr>\n",
       "      <th>stroke</th>\n",
       "      <td>-0.055390</td>\n",
       "      <td>1.000000</td>\n",
       "      <td>0.187923</td>\n",
       "      <td>0.098462</td>\n",
       "    </tr>\n",
       "    <tr>\n",
       "      <th>compression-ratio</th>\n",
       "      <td>0.001263</td>\n",
       "      <td>0.187923</td>\n",
       "      <td>1.000000</td>\n",
       "      <td>-0.214514</td>\n",
       "    </tr>\n",
       "    <tr>\n",
       "      <th>horsepower</th>\n",
       "      <td>0.566936</td>\n",
       "      <td>0.098462</td>\n",
       "      <td>-0.214514</td>\n",
       "      <td>1.000000</td>\n",
       "    </tr>\n",
       "  </tbody>\n",
       "</table>\n",
       "</div>"
      ],
      "text/plain": [
       "                       bore    stroke  compression-ratio  horsepower\n",
       "bore               1.000000 -0.055390           0.001263    0.566936\n",
       "stroke            -0.055390  1.000000           0.187923    0.098462\n",
       "compression-ratio  0.001263  0.187923           1.000000   -0.214514\n",
       "horsepower         0.566936  0.098462          -0.214514    1.000000"
      ]
     },
     "execution_count": 11,
     "metadata": {},
     "output_type": "execute_result"
    }
   ],
   "source": [
    "# Solucion\n",
    "df[['bore', 'stroke', 'compression-ratio', 'horsepower']].corr() "
   ]
  },
  {
   "cell_type": "markdown",
   "metadata": {},
   "source": [
    "<h2>Variables númericas continuas:</h2> \n",
    "\n",
    "<p>Son variables que pueden contener cualquier valor en algun rango, son de tipo \"int64\" o \"float64\". Una excelente manera de visualizar estas variables es mediante el uso de diagramas de dispersión con líneas ajustadas.</p>\n",
    "\n",
    "<p>Para comenzar a comprender la relación (lineal) entre una variable individual y el \"price\". Podemos hacer esto usando \"regplot\", que traza el diagrama de dispersión más la línea de regresión ajustada para los datos.</p>"
   ]
  },
  {
   "cell_type": "markdown",
   "metadata": {},
   "source": [
    "<h4>Relaciones positivas lineales</h4>"
   ]
  },
  {
   "cell_type": "markdown",
   "metadata": {},
   "source": [
    "Busquemos el diagrama de dispersión de \"engine-size\" y \"price\""
   ]
  },
  {
   "cell_type": "code",
   "execution_count": 12,
   "metadata": {
    "scrolled": true
   },
   "outputs": [
    {
     "data": {
      "text/plain": [
       "(0, 56199.13130699235)"
      ]
     },
     "execution_count": 12,
     "metadata": {},
     "output_type": "execute_result"
    },
    {
     "data": {
      "image/png": "[encoded data removed]",
      "text/plain": [
       "<Figure size 432x288 with 1 Axes>"
      ]
     },
     "metadata": {
      "needs_background": "light"
     },
     "output_type": "display_data"
    }
   ],
   "source": [
    "# Engine size as potential predictor variable of price\n",
    "sns.regplot(x=\"engine-size\", y=\"price\", data=df)\n",
    "plt.ylim(0,)"
   ]
  },
  {
   "cell_type": "markdown",
   "metadata": {},
   "source": [
    "<p>A medida que aumenta el tamaño del motor, aumenta el precio: esto indica una correlación directa positiva entre estas dos variables. El tamaño del motor parece un buen predictor de precio ya que la línea de regresión es casi una línea diagonal perfecta.</p>"
   ]
  },
  {
   "cell_type": "markdown",
   "metadata": {},
   "source": [
    "Podemos examinar la correlación entre 'engine-size' y 'price' y ver que es aproximadamente 0.87"
   ]
  },
  {
   "cell_type": "code",
   "execution_count": 13,
   "metadata": {},
   "outputs": [
    {
     "data": {
      "text/html": [
       "<div>\n",
       "<style scoped>\n",
       "    .dataframe tbody tr th:only-of-type {\n",
       "        vertical-align: middle;\n",
       "    }\n",
       "\n",
       "    .dataframe tbody tr th {\n",
       "        vertical-align: top;\n",
       "    }\n",
       "\n",
       "    .dataframe thead th {\n",
       "        text-align: right;\n",
       "    }\n",
       "</style>\n",
       "<table border=\"1\" class=\"dataframe\">\n",
       "  <thead>\n",
       "    <tr style=\"text-align: right;\">\n",
       "      <th></th>\n",
       "      <th>engine-size</th>\n",
       "      <th>price</th>\n",
       "    </tr>\n",
       "  </thead>\n",
       "  <tbody>\n",
       "    <tr>\n",
       "      <th>engine-size</th>\n",
       "      <td>1.000000</td>\n",
       "      <td>0.872335</td>\n",
       "    </tr>\n",
       "    <tr>\n",
       "      <th>price</th>\n",
       "      <td>0.872335</td>\n",
       "      <td>1.000000</td>\n",
       "    </tr>\n",
       "  </tbody>\n",
       "</table>\n",
       "</div>"
      ],
      "text/plain": [
       "             engine-size     price\n",
       "engine-size     1.000000  0.872335\n",
       "price           0.872335  1.000000"
      ]
     },
     "execution_count": 13,
     "metadata": {},
     "output_type": "execute_result"
    }
   ],
   "source": [
    "df[[\"engine-size\", \"price\"]].corr()"
   ]
  },
  {
   "cell_type": "markdown",
   "metadata": {},
   "source": [
    "\n",
    "Busquemos el diagrama de dispersión de \"highway-mpg\" y \"price\""
   ]
  },
  {
   "cell_type": "code",
   "execution_count": 14,
   "metadata": {},
   "outputs": [
    {
     "data": {
      "text/plain": [
       "<matplotlib.axes._subplots.AxesSubplot at 0x1a1c05ff98>"
      ]
     },
     "execution_count": 14,
     "metadata": {},
     "output_type": "execute_result"
    },
    {
     "data": {
      "image/png": "[encoded data removed]",
      "text/plain": [
       "<Figure size 432x288 with 1 Axes>"
      ]
     },
     "metadata": {
      "needs_background": "light"
     },
     "output_type": "display_data"
    }
   ],
   "source": [
    "sns.regplot(x=\"highway-mpg\", y=\"price\", data=df)"
   ]
  },
  {
   "cell_type": "markdown",
   "metadata": {},
   "source": [
    "<p>A medida que sube el highway-mpg, el price baja: esto indica una relación inversa / negativa entre estas dos variables. El highway-mpg podría ser un potencial predictor para el price.</p>"
   ]
  },
  {
   "cell_type": "markdown",
   "metadata": {},
   "source": [
    "La correlación entre 'highway-mpg' y 'price' es aproximadamente  -0.704"
   ]
  },
  {
   "cell_type": "code",
   "execution_count": 15,
   "metadata": {},
   "outputs": [
    {
     "data": {
      "text/html": [
       "<div>\n",
       "<style scoped>\n",
       "    .dataframe tbody tr th:only-of-type {\n",
       "        vertical-align: middle;\n",
       "    }\n",
       "\n",
       "    .dataframe tbody tr th {\n",
       "        vertical-align: top;\n",
       "    }\n",
       "\n",
       "    .dataframe thead th {\n",
       "        text-align: right;\n",
       "    }\n",
       "</style>\n",
       "<table border=\"1\" class=\"dataframe\">\n",
       "  <thead>\n",
       "    <tr style=\"text-align: right;\">\n",
       "      <th></th>\n",
       "      <th>highway-mpg</th>\n",
       "      <th>price</th>\n",
       "    </tr>\n",
       "  </thead>\n",
       "  <tbody>\n",
       "    <tr>\n",
       "      <th>highway-mpg</th>\n",
       "      <td>1.000000</td>\n",
       "      <td>-0.704692</td>\n",
       "    </tr>\n",
       "    <tr>\n",
       "      <th>price</th>\n",
       "      <td>-0.704692</td>\n",
       "      <td>1.000000</td>\n",
       "    </tr>\n",
       "  </tbody>\n",
       "</table>\n",
       "</div>"
      ],
      "text/plain": [
       "             highway-mpg     price\n",
       "highway-mpg     1.000000 -0.704692\n",
       "price          -0.704692  1.000000"
      ]
     },
     "execution_count": 15,
     "metadata": {},
     "output_type": "execute_result"
    }
   ],
   "source": [
    "df[['highway-mpg', 'price']].corr()"
   ]
  },
  {
   "cell_type": "markdown",
   "metadata": {},
   "source": [
    "<h3>Relaciones lineales débiles</h3>"
   ]
  },
  {
   "cell_type": "markdown",
   "metadata": {},
   "source": [
    "Se analiza \"Peak-rpm\" como una variable predictora de \"price\"."
   ]
  },
  {
   "cell_type": "code",
   "execution_count": 16,
   "metadata": {},
   "outputs": [
    {
     "data": {
      "text/plain": [
       "<matplotlib.axes._subplots.AxesSubplot at 0x1a1c0a3470>"
      ]
     },
     "execution_count": 16,
     "metadata": {},
     "output_type": "execute_result"
    },
    {
     "data": {
      "image/png": "[encoded data removed]",
      "text/plain": [
       "<Figure size 432x288 with 1 Axes>"
      ]
     },
     "metadata": {
      "needs_background": "light"
     },
     "output_type": "display_data"
    }
   ],
   "source": [
    "sns.regplot(x=\"peak-rpm\", y=\"price\", data=df)"
   ]
  },
  {
   "cell_type": "markdown",
   "metadata": {},
   "source": [
    "<p>Las peak-rpm no parecen ser un buen predictor al price, ya que la línea de regresión está cerca de la horizontal. Además, los puntos de datos están muy dispersos y lejos de la línea ajustada, lo que muestra mucha variabilidad. Por lo tanto, no es una variable confiable.</p>"
   ]
  },
  {
   "cell_type": "markdown",
   "metadata": {},
   "source": [
    "La correlación entre 'peak-rpm' y 'price' es aproximadamente -0.101616 "
   ]
  },
  {
   "cell_type": "code",
   "execution_count": 17,
   "metadata": {},
   "outputs": [
    {
     "data": {
      "text/html": [
       "<div>\n",
       "<style scoped>\n",
       "    .dataframe tbody tr th:only-of-type {\n",
       "        vertical-align: middle;\n",
       "    }\n",
       "\n",
       "    .dataframe tbody tr th {\n",
       "        vertical-align: top;\n",
       "    }\n",
       "\n",
       "    .dataframe thead th {\n",
       "        text-align: right;\n",
       "    }\n",
       "</style>\n",
       "<table border=\"1\" class=\"dataframe\">\n",
       "  <thead>\n",
       "    <tr style=\"text-align: right;\">\n",
       "      <th></th>\n",
       "      <th>peak-rpm</th>\n",
       "      <th>price</th>\n",
       "    </tr>\n",
       "  </thead>\n",
       "  <tbody>\n",
       "    <tr>\n",
       "      <th>peak-rpm</th>\n",
       "      <td>1.000000</td>\n",
       "      <td>-0.101616</td>\n",
       "    </tr>\n",
       "    <tr>\n",
       "      <th>price</th>\n",
       "      <td>-0.101616</td>\n",
       "      <td>1.000000</td>\n",
       "    </tr>\n",
       "  </tbody>\n",
       "</table>\n",
       "</div>"
      ],
      "text/plain": [
       "          peak-rpm     price\n",
       "peak-rpm  1.000000 -0.101616\n",
       "price    -0.101616  1.000000"
      ]
     },
     "execution_count": 17,
     "metadata": {},
     "output_type": "execute_result"
    }
   ],
   "source": [
    "df[['peak-rpm','price']].corr()"
   ]
  },
  {
   "cell_type": "markdown",
   "metadata": {},
   "source": [
    " <div class=\"alert alert-danger alertdanger\" style=\"margin-top: 20px\">\n",
    "<h1> Pregunta  3 a): </h1>\n",
    "\n",
    "<p>Encontrar la correlación entre x=\"stroke\", y=\"price\".</p>\n",
    "</div>"
   ]
  },
  {
   "cell_type": "code",
   "execution_count": 18,
   "metadata": {},
   "outputs": [
    {
     "data": {
      "text/html": [
       "<div>\n",
       "<style scoped>\n",
       "    .dataframe tbody tr th:only-of-type {\n",
       "        vertical-align: middle;\n",
       "    }\n",
       "\n",
       "    .dataframe tbody tr th {\n",
       "        vertical-align: top;\n",
       "    }\n",
       "\n",
       "    .dataframe thead th {\n",
       "        text-align: right;\n",
       "    }\n",
       "</style>\n",
       "<table border=\"1\" class=\"dataframe\">\n",
       "  <thead>\n",
       "    <tr style=\"text-align: right;\">\n",
       "      <th></th>\n",
       "      <th>stroke</th>\n",
       "      <th>price</th>\n",
       "    </tr>\n",
       "  </thead>\n",
       "  <tbody>\n",
       "    <tr>\n",
       "      <th>stroke</th>\n",
       "      <td>1.00000</td>\n",
       "      <td>0.08231</td>\n",
       "    </tr>\n",
       "    <tr>\n",
       "      <th>price</th>\n",
       "      <td>0.08231</td>\n",
       "      <td>1.00000</td>\n",
       "    </tr>\n",
       "  </tbody>\n",
       "</table>\n",
       "</div>"
      ],
      "text/plain": [
       "         stroke    price\n",
       "stroke  1.00000  0.08231\n",
       "price   0.08231  1.00000"
      ]
     },
     "execution_count": 18,
     "metadata": {},
     "output_type": "execute_result"
    }
   ],
   "source": [
    "# Respuesta\n",
    "df[[\"stroke\",\"price\"]].corr() \n"
   ]
  },
  {
   "cell_type": "markdown",
   "metadata": {},
   "source": [
    "Double-click <b>here</b> for the solution.\n",
    "\n",
    "<!-- The answer is below:\n",
    "\n",
    "#The correlation is 0.0823, the non-diagonal elements of the table.\n",
    "#code:\n",
    "df[[\"stroke\",\"price\"]].corr() \n",
    "\n",
    "-->"
   ]
  },
  {
   "cell_type": "markdown",
   "metadata": {},
   "source": [
    "<div class=\"alert alert-danger alertdanger\" style=\"margin-top: 20px\">\n",
    "<h1>Question  3 b):</h1>\n",
    "\n",
    "<p>Analizar el resultado de la correlacion entre el  \"price\" y \"stroke\", tiene una relación lineal?</p> \n",
    "<p>Verifica los resultados con la función  \"regplot()\".</p>\n",
    "</div>"
   ]
  },
  {
   "cell_type": "code",
   "execution_count": 19,
   "metadata": {},
   "outputs": [
    {
     "data": {
      "text/plain": [
       "<matplotlib.axes._subplots.AxesSubplot at 0x1a1c1aee10>"
      ]
     },
     "execution_count": 19,
     "metadata": {},
     "output_type": "execute_result"
    },
    {
     "data": {
      "image/png": "[encoded data removed]",
      "text/plain": [
       "<Figure size 432x288 with 1 Axes>"
      ]
     },
     "metadata": {
      "needs_background": "light"
     },
     "output_type": "display_data"
    }
   ],
   "source": [
    "# Resultado: \n",
    "sns.regplot(x=\"stroke\", y=\"price\", data=df)"
   ]
  },
  {
   "cell_type": "markdown",
   "metadata": {},
   "source": [
    "Double-click <b>here</b> for the solution.\n",
    "\n",
    "<!-- The answer is below:\n",
    "\n",
    "#There is a weak correlation between the variable 'stroke' and 'price.' as such regression will not work well.  We #can see this use \"regplot\" to demonstrate this.\n",
    "\n",
    "#Code: \n",
    "sns.regplot(x=\"stroke\", y=\"price\", data=df)\n",
    "\n",
    "-->"
   ]
  },
  {
   "cell_type": "markdown",
   "metadata": {},
   "source": [
    "<h3>Variables categoricas</h3>\n",
    "\n",
    "<p>Estas son variables que describen una 'característica' de una unidad de datos y se seleccionan de un pequeño grupo de categorías. Las variables categóricas pueden tener el tipo \"objeto\" o \"int64\". Una buena forma de visualizar variables categóricas es mediante el uso de diagramas de caja.</p>"
   ]
  },
  {
   "cell_type": "markdown",
   "metadata": {},
   "source": [
    "Se revisa la relación entre \"body-style\" y \"price\"."
   ]
  },
  {
   "cell_type": "code",
   "execution_count": 20,
   "metadata": {
    "scrolled": true
   },
   "outputs": [
    {
     "data": {
      "text/plain": [
       "<matplotlib.axes._subplots.AxesSubplot at 0x1a1c3a8198>"
      ]
     },
     "execution_count": 20,
     "metadata": {},
     "output_type": "execute_result"
    },
    {
     "data": {
      "image/png": "[encoded data removed]",
      "text/plain": [
       "<Figure size 432x288 with 1 Axes>"
      ]
     },
     "metadata": {
      "needs_background": "light"
     },
     "output_type": "display_data"
    }
   ],
   "source": [
    "sns.boxplot(x=\"body-style\", y=\"price\", data=df)"
   ]
  },
  {
   "cell_type": "markdown",
   "metadata": {},
   "source": [
    "<p> Vemos que las distribuciones de precios entre las diferentes categorías de estilo de cuerpo (body-style) tienen una superposición significativa, por lo que el estilo de cuerpo no sería un buen predictor del precio. Examinemos la \"engine-location\" y \"price\": </p>"
   ]
  },
  {
   "cell_type": "code",
   "execution_count": 21,
   "metadata": {
    "scrolled": true
   },
   "outputs": [
    {
     "data": {
      "text/plain": [
       "<matplotlib.axes._subplots.AxesSubplot at 0x1a1c503dd8>"
      ]
     },
     "execution_count": 21,
     "metadata": {},
     "output_type": "execute_result"
    },
    {
     "data": {
      "image/png": "[encoded data removed]",
      "text/plain": [
       "<Figure size 432x288 with 1 Axes>"
      ]
     },
     "metadata": {
      "needs_background": "light"
     },
     "output_type": "display_data"
    }
   ],
   "source": [
    "sns.boxplot(x=\"engine-location\", y=\"price\", data=df)"
   ]
  },
  {
   "cell_type": "markdown",
   "metadata": {},
   "source": [
    "<p>Aquí vemos que la distribución del precio entre estas dos categorías de ubicación del motor (engine-location), front y rear, es lo suficientemente distinta como para tomar la ubicación del motor como un buen predictor potencial del precio.</p>"
   ]
  },
  {
   "cell_type": "markdown",
   "metadata": {},
   "source": [
    " Examinando la relación entre  \"drive-wheels\" y \"price\"."
   ]
  },
  {
   "cell_type": "code",
   "execution_count": 22,
   "metadata": {
    "scrolled": false
   },
   "outputs": [
    {
     "data": {
      "text/plain": [
       "<matplotlib.axes._subplots.AxesSubplot at 0x1a1bfe0908>"
      ]
     },
     "execution_count": 22,
     "metadata": {},
     "output_type": "execute_result"
    },
    {
     "data": {
      "image/png": "[encoded data removed]",
      "text/plain": [
       "<Figure size 432x288 with 1 Axes>"
      ]
     },
     "metadata": {
      "needs_background": "light"
     },
     "output_type": "display_data"
    }
   ],
   "source": [
    "# drive-wheels\n",
    "sns.boxplot(x=\"drive-wheels\", y=\"price\", data=df)"
   ]
  },
  {
   "cell_type": "markdown",
   "metadata": {},
   "source": [
    "<p>Aquí vemos que la distribución de precios (price) entre las diferentes categorías de ruedas motrices(drive-wheels)  es diferente; Como tal, las ruedas motrices (drive-wheels) podrían ser un predictor de precio.</p>"
   ]
  },
  {
   "cell_type": "code",
   "execution_count": 23,
   "metadata": {},
   "outputs": [
    {
     "data": {
      "text/plain": [
       "<matplotlib.axes._subplots.AxesSubplot at 0x1a1c6ff400>"
      ]
     },
     "execution_count": 23,
     "metadata": {},
     "output_type": "execute_result"
    },
    {
     "data": {
      "image/png": "[encoded data removed]",
      "text/plain": [
       "<Figure size 432x288 with 1 Axes>"
      ]
     },
     "metadata": {
      "needs_background": "light"
     },
     "output_type": "display_data"
    }
   ],
   "source": [
    "# num-of-cylinders\n",
    "sns.boxplot(x=\"num-of-cylinders\", y=\"price\", data=df)"
   ]
  },
  {
   "cell_type": "code",
   "execution_count": 24,
   "metadata": {},
   "outputs": [
    {
     "data": {
      "text/plain": [
       "<matplotlib.axes._subplots.AxesSubplot at 0x1a1c807da0>"
      ]
     },
     "execution_count": 24,
     "metadata": {},
     "output_type": "execute_result"
    },
    {
     "data": {
      "image/png": "[encoded data removed]",
      "text/plain": [
       "<Figure size 432x288 with 1 Axes>"
      ]
     },
     "metadata": {
      "needs_background": "light"
     },
     "output_type": "display_data"
    }
   ],
   "source": [
    "# fuel-system\n",
    "sns.boxplot(x=\"fuel-system\", y=\"price\", data=df)"
   ]
  },
  {
   "cell_type": "code",
   "execution_count": null,
   "metadata": {},
   "outputs": [],
   "source": []
  },
  {
   "cell_type": "markdown",
   "metadata": {},
   "source": [
    "<h2 id=\"discriptive_statistics\">3. Análisis estadístico descriptivo</h2>"
   ]
  },
  {
   "cell_type": "markdown",
   "metadata": {},
   "source": [
    "<p>La funcion <b>describe</b> calcula automáticamente estadísticas básicas para todas las variables continuas. Cualquier valor de NaN se omite automáticamente en estas estadísticas.</p>\n",
    "\n",
    "This will show:\n",
    "<ul>\n",
    "    <li>Contador de variables</li>\n",
    "    <li>La media</li>\n",
    "    <li>La desviación estandar(std)</li> \n",
    "    <li>El valor minimo</li>\n",
    "    <li>El IQR (Rango intercuartil: 25%, 50% and 75%)</li>\n",
    "    <li>El valor máximoe</li>\n",
    "<ul>\n"
   ]
  },
  {
   "cell_type": "code",
   "execution_count": 25,
   "metadata": {},
   "outputs": [
    {
     "data": {
      "text/html": [
       "<div>\n",
       "<style scoped>\n",
       "    .dataframe tbody tr th:only-of-type {\n",
       "        vertical-align: middle;\n",
       "    }\n",
       "\n",
       "    .dataframe tbody tr th {\n",
       "        vertical-align: top;\n",
       "    }\n",
       "\n",
       "    .dataframe thead th {\n",
       "        text-align: right;\n",
       "    }\n",
       "</style>\n",
       "<table border=\"1\" class=\"dataframe\">\n",
       "  <thead>\n",
       "    <tr style=\"text-align: right;\">\n",
       "      <th></th>\n",
       "      <th>symboling</th>\n",
       "      <th>normalized-losses</th>\n",
       "      <th>wheel-base</th>\n",
       "      <th>length</th>\n",
       "      <th>width</th>\n",
       "      <th>height</th>\n",
       "      <th>curb-weight</th>\n",
       "      <th>engine-size</th>\n",
       "      <th>bore</th>\n",
       "      <th>stroke</th>\n",
       "      <th>compression-ratio</th>\n",
       "      <th>horsepower</th>\n",
       "      <th>peak-rpm</th>\n",
       "      <th>city-mpg</th>\n",
       "      <th>highway-mpg</th>\n",
       "      <th>price</th>\n",
       "      <th>city-L/100km</th>\n",
       "      <th>diesel</th>\n",
       "      <th>gas</th>\n",
       "    </tr>\n",
       "  </thead>\n",
       "  <tbody>\n",
       "    <tr>\n",
       "      <th>count</th>\n",
       "      <td>201.000000</td>\n",
       "      <td>201.00000</td>\n",
       "      <td>201.000000</td>\n",
       "      <td>201.000000</td>\n",
       "      <td>201.000000</td>\n",
       "      <td>201.000000</td>\n",
       "      <td>201.000000</td>\n",
       "      <td>201.000000</td>\n",
       "      <td>201.000000</td>\n",
       "      <td>197.000000</td>\n",
       "      <td>201.000000</td>\n",
       "      <td>201.000000</td>\n",
       "      <td>201.000000</td>\n",
       "      <td>201.000000</td>\n",
       "      <td>201.000000</td>\n",
       "      <td>201.000000</td>\n",
       "      <td>201.000000</td>\n",
       "      <td>201.000000</td>\n",
       "      <td>201.000000</td>\n",
       "    </tr>\n",
       "    <tr>\n",
       "      <th>mean</th>\n",
       "      <td>0.840796</td>\n",
       "      <td>122.00000</td>\n",
       "      <td>98.797015</td>\n",
       "      <td>0.837102</td>\n",
       "      <td>0.915126</td>\n",
       "      <td>53.766667</td>\n",
       "      <td>2555.666667</td>\n",
       "      <td>126.875622</td>\n",
       "      <td>3.330692</td>\n",
       "      <td>3.256904</td>\n",
       "      <td>10.164279</td>\n",
       "      <td>103.405534</td>\n",
       "      <td>5117.665368</td>\n",
       "      <td>25.179104</td>\n",
       "      <td>30.686567</td>\n",
       "      <td>13207.129353</td>\n",
       "      <td>9.944145</td>\n",
       "      <td>0.099502</td>\n",
       "      <td>0.900498</td>\n",
       "    </tr>\n",
       "    <tr>\n",
       "      <th>std</th>\n",
       "      <td>1.254802</td>\n",
       "      <td>31.99625</td>\n",
       "      <td>6.066366</td>\n",
       "      <td>0.059213</td>\n",
       "      <td>0.029187</td>\n",
       "      <td>2.447822</td>\n",
       "      <td>517.296727</td>\n",
       "      <td>41.546834</td>\n",
       "      <td>0.268072</td>\n",
       "      <td>0.319256</td>\n",
       "      <td>4.004965</td>\n",
       "      <td>37.365700</td>\n",
       "      <td>478.113805</td>\n",
       "      <td>6.423220</td>\n",
       "      <td>6.815150</td>\n",
       "      <td>7947.066342</td>\n",
       "      <td>2.534599</td>\n",
       "      <td>0.300083</td>\n",
       "      <td>0.300083</td>\n",
       "    </tr>\n",
       "    <tr>\n",
       "      <th>min</th>\n",
       "      <td>-2.000000</td>\n",
       "      <td>65.00000</td>\n",
       "      <td>86.600000</td>\n",
       "      <td>0.678039</td>\n",
       "      <td>0.837500</td>\n",
       "      <td>47.800000</td>\n",
       "      <td>1488.000000</td>\n",
       "      <td>61.000000</td>\n",
       "      <td>2.540000</td>\n",
       "      <td>2.070000</td>\n",
       "      <td>7.000000</td>\n",
       "      <td>48.000000</td>\n",
       "      <td>4150.000000</td>\n",
       "      <td>13.000000</td>\n",
       "      <td>16.000000</td>\n",
       "      <td>5118.000000</td>\n",
       "      <td>4.795918</td>\n",
       "      <td>0.000000</td>\n",
       "      <td>0.000000</td>\n",
       "    </tr>\n",
       "    <tr>\n",
       "      <th>25%</th>\n",
       "      <td>0.000000</td>\n",
       "      <td>101.00000</td>\n",
       "      <td>94.500000</td>\n",
       "      <td>0.801538</td>\n",
       "      <td>0.890278</td>\n",
       "      <td>52.000000</td>\n",
       "      <td>2169.000000</td>\n",
       "      <td>98.000000</td>\n",
       "      <td>3.150000</td>\n",
       "      <td>3.110000</td>\n",
       "      <td>8.600000</td>\n",
       "      <td>70.000000</td>\n",
       "      <td>4800.000000</td>\n",
       "      <td>19.000000</td>\n",
       "      <td>25.000000</td>\n",
       "      <td>7775.000000</td>\n",
       "      <td>7.833333</td>\n",
       "      <td>0.000000</td>\n",
       "      <td>1.000000</td>\n",
       "    </tr>\n",
       "    <tr>\n",
       "      <th>50%</th>\n",
       "      <td>1.000000</td>\n",
       "      <td>122.00000</td>\n",
       "      <td>97.000000</td>\n",
       "      <td>0.832292</td>\n",
       "      <td>0.909722</td>\n",
       "      <td>54.100000</td>\n",
       "      <td>2414.000000</td>\n",
       "      <td>120.000000</td>\n",
       "      <td>3.310000</td>\n",
       "      <td>3.290000</td>\n",
       "      <td>9.000000</td>\n",
       "      <td>95.000000</td>\n",
       "      <td>5125.369458</td>\n",
       "      <td>24.000000</td>\n",
       "      <td>30.000000</td>\n",
       "      <td>10295.000000</td>\n",
       "      <td>9.791667</td>\n",
       "      <td>0.000000</td>\n",
       "      <td>1.000000</td>\n",
       "    </tr>\n",
       "    <tr>\n",
       "      <th>75%</th>\n",
       "      <td>2.000000</td>\n",
       "      <td>137.00000</td>\n",
       "      <td>102.400000</td>\n",
       "      <td>0.881788</td>\n",
       "      <td>0.925000</td>\n",
       "      <td>55.500000</td>\n",
       "      <td>2926.000000</td>\n",
       "      <td>141.000000</td>\n",
       "      <td>3.580000</td>\n",
       "      <td>3.410000</td>\n",
       "      <td>9.400000</td>\n",
       "      <td>116.000000</td>\n",
       "      <td>5500.000000</td>\n",
       "      <td>30.000000</td>\n",
       "      <td>34.000000</td>\n",
       "      <td>16500.000000</td>\n",
       "      <td>12.368421</td>\n",
       "      <td>0.000000</td>\n",
       "      <td>1.000000</td>\n",
       "    </tr>\n",
       "    <tr>\n",
       "      <th>max</th>\n",
       "      <td>3.000000</td>\n",
       "      <td>256.00000</td>\n",
       "      <td>120.900000</td>\n",
       "      <td>1.000000</td>\n",
       "      <td>1.000000</td>\n",
       "      <td>59.800000</td>\n",
       "      <td>4066.000000</td>\n",
       "      <td>326.000000</td>\n",
       "      <td>3.940000</td>\n",
       "      <td>4.170000</td>\n",
       "      <td>23.000000</td>\n",
       "      <td>262.000000</td>\n",
       "      <td>6600.000000</td>\n",
       "      <td>49.000000</td>\n",
       "      <td>54.000000</td>\n",
       "      <td>45400.000000</td>\n",
       "      <td>18.076923</td>\n",
       "      <td>1.000000</td>\n",
       "      <td>1.000000</td>\n",
       "    </tr>\n",
       "  </tbody>\n",
       "</table>\n",
       "</div>"
      ],
      "text/plain": [
       "        symboling  normalized-losses  wheel-base      length       width  \\\n",
       "count  201.000000          201.00000  201.000000  201.000000  201.000000   \n",
       "mean     0.840796          122.00000   98.797015    0.837102    0.915126   \n",
       "std      1.254802           31.99625    6.066366    0.059213    0.029187   \n",
       "min     -2.000000           65.00000   86.600000    0.678039    0.837500   \n",
       "25%      0.000000          101.00000   94.500000    0.801538    0.890278   \n",
       "50%      1.000000          122.00000   97.000000    0.832292    0.909722   \n",
       "75%      2.000000          137.00000  102.400000    0.881788    0.925000   \n",
       "max      3.000000          256.00000  120.900000    1.000000    1.000000   \n",
       "\n",
       "           height  curb-weight  engine-size        bore      stroke  \\\n",
       "count  201.000000   201.000000   201.000000  201.000000  197.000000   \n",
       "mean    53.766667  2555.666667   126.875622    3.330692    3.256904   \n",
       "std      2.447822   517.296727    41.546834    0.268072    0.319256   \n",
       "min     47.800000  1488.000000    61.000000    2.540000    2.070000   \n",
       "25%     52.000000  2169.000000    98.000000    3.150000    3.110000   \n",
       "50%     54.100000  2414.000000   120.000000    3.310000    3.290000   \n",
       "75%     55.500000  2926.000000   141.000000    3.580000    3.410000   \n",
       "max     59.800000  4066.000000   326.000000    3.940000    4.170000   \n",
       "\n",
       "       compression-ratio  horsepower     peak-rpm    city-mpg  highway-mpg  \\\n",
       "count         201.000000  201.000000   201.000000  201.000000   201.000000   \n",
       "mean           10.164279  103.405534  5117.665368   25.179104    30.686567   \n",
       "std             4.004965   37.365700   478.113805    6.423220     6.815150   \n",
       "min             7.000000   48.000000  4150.000000   13.000000    16.000000   \n",
       "25%             8.600000   70.000000  4800.000000   19.000000    25.000000   \n",
       "50%             9.000000   95.000000  5125.369458   24.000000    30.000000   \n",
       "75%             9.400000  116.000000  5500.000000   30.000000    34.000000   \n",
       "max            23.000000  262.000000  6600.000000   49.000000    54.000000   \n",
       "\n",
       "              price  city-L/100km      diesel         gas  \n",
       "count    201.000000    201.000000  201.000000  201.000000  \n",
       "mean   13207.129353      9.944145    0.099502    0.900498  \n",
       "std     7947.066342      2.534599    0.300083    0.300083  \n",
       "min     5118.000000      4.795918    0.000000    0.000000  \n",
       "25%     7775.000000      7.833333    0.000000    1.000000  \n",
       "50%    10295.000000      9.791667    0.000000    1.000000  \n",
       "75%    16500.000000     12.368421    0.000000    1.000000  \n",
       "max    45400.000000     18.076923    1.000000    1.000000  "
      ]
     },
     "execution_count": 25,
     "metadata": {},
     "output_type": "execute_result"
    }
   ],
   "source": [
    "df.describe()"
   ]
  },
  {
   "cell_type": "markdown",
   "metadata": {},
   "source": [
    " The default setting of \"describe\" skips variables of type object. We can apply the method \"describe\" on the variables of type 'object' as follows:"
   ]
  },
  {
   "cell_type": "code",
   "execution_count": 26,
   "metadata": {
    "scrolled": true
   },
   "outputs": [
    {
     "data": {
      "text/html": [
       "<div>\n",
       "<style scoped>\n",
       "    .dataframe tbody tr th:only-of-type {\n",
       "        vertical-align: middle;\n",
       "    }\n",
       "\n",
       "    .dataframe tbody tr th {\n",
       "        vertical-align: top;\n",
       "    }\n",
       "\n",
       "    .dataframe thead th {\n",
       "        text-align: right;\n",
       "    }\n",
       "</style>\n",
       "<table border=\"1\" class=\"dataframe\">\n",
       "  <thead>\n",
       "    <tr style=\"text-align: right;\">\n",
       "      <th></th>\n",
       "      <th>make</th>\n",
       "      <th>aspiration</th>\n",
       "      <th>num-of-doors</th>\n",
       "      <th>body-style</th>\n",
       "      <th>drive-wheels</th>\n",
       "      <th>engine-location</th>\n",
       "      <th>engine-type</th>\n",
       "      <th>num-of-cylinders</th>\n",
       "      <th>fuel-system</th>\n",
       "      <th>horsepower-binned</th>\n",
       "    </tr>\n",
       "  </thead>\n",
       "  <tbody>\n",
       "    <tr>\n",
       "      <th>count</th>\n",
       "      <td>201</td>\n",
       "      <td>201</td>\n",
       "      <td>201</td>\n",
       "      <td>201</td>\n",
       "      <td>201</td>\n",
       "      <td>201</td>\n",
       "      <td>201</td>\n",
       "      <td>201</td>\n",
       "      <td>201</td>\n",
       "      <td>200</td>\n",
       "    </tr>\n",
       "    <tr>\n",
       "      <th>unique</th>\n",
       "      <td>22</td>\n",
       "      <td>2</td>\n",
       "      <td>2</td>\n",
       "      <td>5</td>\n",
       "      <td>3</td>\n",
       "      <td>2</td>\n",
       "      <td>6</td>\n",
       "      <td>7</td>\n",
       "      <td>8</td>\n",
       "      <td>3</td>\n",
       "    </tr>\n",
       "    <tr>\n",
       "      <th>top</th>\n",
       "      <td>toyota</td>\n",
       "      <td>std</td>\n",
       "      <td>four</td>\n",
       "      <td>sedan</td>\n",
       "      <td>fwd</td>\n",
       "      <td>front</td>\n",
       "      <td>ohc</td>\n",
       "      <td>four</td>\n",
       "      <td>mpfi</td>\n",
       "      <td>Low</td>\n",
       "    </tr>\n",
       "    <tr>\n",
       "      <th>freq</th>\n",
       "      <td>32</td>\n",
       "      <td>165</td>\n",
       "      <td>115</td>\n",
       "      <td>94</td>\n",
       "      <td>118</td>\n",
       "      <td>198</td>\n",
       "      <td>145</td>\n",
       "      <td>157</td>\n",
       "      <td>92</td>\n",
       "      <td>115</td>\n",
       "    </tr>\n",
       "  </tbody>\n",
       "</table>\n",
       "</div>"
      ],
      "text/plain": [
       "          make aspiration num-of-doors body-style drive-wheels  \\\n",
       "count      201        201          201        201          201   \n",
       "unique      22          2            2          5            3   \n",
       "top     toyota        std         four      sedan          fwd   \n",
       "freq        32        165          115         94          118   \n",
       "\n",
       "       engine-location engine-type num-of-cylinders fuel-system  \\\n",
       "count              201         201              201         201   \n",
       "unique               2           6                7           8   \n",
       "top              front         ohc             four        mpfi   \n",
       "freq               198         145              157          92   \n",
       "\n",
       "       horsepower-binned  \n",
       "count                200  \n",
       "unique                 3  \n",
       "top                  Low  \n",
       "freq                 115  "
      ]
     },
     "execution_count": 26,
     "metadata": {},
     "output_type": "execute_result"
    }
   ],
   "source": [
    "df.describe(include=['object'])"
   ]
  },
  {
   "cell_type": "markdown",
   "metadata": {},
   "source": [
    "<h3>Contar valores</h3>"
   ]
  },
  {
   "cell_type": "markdown",
   "metadata": {},
   "source": [
    "<p>El conteo de valores es una buena forma de entender cuántas unidades de cada característica / variable tenemos. Podemos aplicar el método \"value_counts\" en la columna 'drive-wheels'. No olvide que el método \"value_counts\" solo funciona en series Pandas, no en Pandas Dataframes. Como resultado, solo incluimos un soporte \"df['drive-wheels']\" no dos soportes \"df[['drive-wheels']]\".</p>"
   ]
  },
  {
   "cell_type": "code",
   "execution_count": 27,
   "metadata": {},
   "outputs": [
    {
     "data": {
      "text/plain": [
       "fwd    118\n",
       "rwd     75\n",
       "4wd      8\n",
       "Name: drive-wheels, dtype: int64"
      ]
     },
     "execution_count": 27,
     "metadata": {},
     "output_type": "execute_result"
    }
   ],
   "source": [
    "df['drive-wheels'].value_counts()"
   ]
  },
  {
   "cell_type": "markdown",
   "metadata": {},
   "source": [
    "Convertir la seria a un dataframe de la siguiente manera:"
   ]
  },
  {
   "cell_type": "code",
   "execution_count": 28,
   "metadata": {},
   "outputs": [
    {
     "data": {
      "text/html": [
       "<div>\n",
       "<style scoped>\n",
       "    .dataframe tbody tr th:only-of-type {\n",
       "        vertical-align: middle;\n",
       "    }\n",
       "\n",
       "    .dataframe tbody tr th {\n",
       "        vertical-align: top;\n",
       "    }\n",
       "\n",
       "    .dataframe thead th {\n",
       "        text-align: right;\n",
       "    }\n",
       "</style>\n",
       "<table border=\"1\" class=\"dataframe\">\n",
       "  <thead>\n",
       "    <tr style=\"text-align: right;\">\n",
       "      <th></th>\n",
       "      <th>drive-wheels</th>\n",
       "    </tr>\n",
       "  </thead>\n",
       "  <tbody>\n",
       "    <tr>\n",
       "      <th>fwd</th>\n",
       "      <td>118</td>\n",
       "    </tr>\n",
       "    <tr>\n",
       "      <th>rwd</th>\n",
       "      <td>75</td>\n",
       "    </tr>\n",
       "    <tr>\n",
       "      <th>4wd</th>\n",
       "      <td>8</td>\n",
       "    </tr>\n",
       "  </tbody>\n",
       "</table>\n",
       "</div>"
      ],
      "text/plain": [
       "     drive-wheels\n",
       "fwd           118\n",
       "rwd            75\n",
       "4wd             8"
      ]
     },
     "execution_count": 28,
     "metadata": {},
     "output_type": "execute_result"
    }
   ],
   "source": [
    "df['drive-wheels'].value_counts().to_frame()"
   ]
  },
  {
   "cell_type": "markdown",
   "metadata": {},
   "source": [
    "Se repite los pasos anteriores, pero se guarda los resultados en datframe \"drive_wheels_counts\" y se cambie el nombre de la columna 'drive-wheels' a 'value_counts'."
   ]
  },
  {
   "cell_type": "code",
   "execution_count": 29,
   "metadata": {},
   "outputs": [
    {
     "data": {
      "text/html": [
       "<div>\n",
       "<style scoped>\n",
       "    .dataframe tbody tr th:only-of-type {\n",
       "        vertical-align: middle;\n",
       "    }\n",
       "\n",
       "    .dataframe tbody tr th {\n",
       "        vertical-align: top;\n",
       "    }\n",
       "\n",
       "    .dataframe thead th {\n",
       "        text-align: right;\n",
       "    }\n",
       "</style>\n",
       "<table border=\"1\" class=\"dataframe\">\n",
       "  <thead>\n",
       "    <tr style=\"text-align: right;\">\n",
       "      <th></th>\n",
       "      <th>value_counts</th>\n",
       "    </tr>\n",
       "  </thead>\n",
       "  <tbody>\n",
       "    <tr>\n",
       "      <th>fwd</th>\n",
       "      <td>118</td>\n",
       "    </tr>\n",
       "    <tr>\n",
       "      <th>rwd</th>\n",
       "      <td>75</td>\n",
       "    </tr>\n",
       "    <tr>\n",
       "      <th>4wd</th>\n",
       "      <td>8</td>\n",
       "    </tr>\n",
       "  </tbody>\n",
       "</table>\n",
       "</div>"
      ],
      "text/plain": [
       "     value_counts\n",
       "fwd           118\n",
       "rwd            75\n",
       "4wd             8"
      ]
     },
     "execution_count": 29,
     "metadata": {},
     "output_type": "execute_result"
    }
   ],
   "source": [
    "drive_wheels_counts = df['drive-wheels'].value_counts().to_frame()\n",
    "drive_wheels_counts.rename(columns={'drive-wheels': 'value_counts'}, inplace=True)\n",
    "drive_wheels_counts"
   ]
  },
  {
   "cell_type": "markdown",
   "metadata": {},
   "source": [
    " Se renombra el index a : 'drive-wheels':"
   ]
  },
  {
   "cell_type": "code",
   "execution_count": 30,
   "metadata": {},
   "outputs": [
    {
     "data": {
      "text/html": [
       "<div>\n",
       "<style scoped>\n",
       "    .dataframe tbody tr th:only-of-type {\n",
       "        vertical-align: middle;\n",
       "    }\n",
       "\n",
       "    .dataframe tbody tr th {\n",
       "        vertical-align: top;\n",
       "    }\n",
       "\n",
       "    .dataframe thead th {\n",
       "        text-align: right;\n",
       "    }\n",
       "</style>\n",
       "<table border=\"1\" class=\"dataframe\">\n",
       "  <thead>\n",
       "    <tr style=\"text-align: right;\">\n",
       "      <th></th>\n",
       "      <th>value_counts</th>\n",
       "    </tr>\n",
       "    <tr>\n",
       "      <th>drive-wheels</th>\n",
       "      <th></th>\n",
       "    </tr>\n",
       "  </thead>\n",
       "  <tbody>\n",
       "    <tr>\n",
       "      <th>fwd</th>\n",
       "      <td>118</td>\n",
       "    </tr>\n",
       "    <tr>\n",
       "      <th>rwd</th>\n",
       "      <td>75</td>\n",
       "    </tr>\n",
       "    <tr>\n",
       "      <th>4wd</th>\n",
       "      <td>8</td>\n",
       "    </tr>\n",
       "  </tbody>\n",
       "</table>\n",
       "</div>"
      ],
      "text/plain": [
       "              value_counts\n",
       "drive-wheels              \n",
       "fwd                    118\n",
       "rwd                     75\n",
       "4wd                      8"
      ]
     },
     "execution_count": 30,
     "metadata": {},
     "output_type": "execute_result"
    }
   ],
   "source": [
    "drive_wheels_counts.index.name = 'drive-wheels'\n",
    "drive_wheels_counts"
   ]
  },
  {
   "cell_type": "markdown",
   "metadata": {},
   "source": [
    "Se repite lo mismo para la variable : 'engine-location'."
   ]
  },
  {
   "cell_type": "code",
   "execution_count": 31,
   "metadata": {},
   "outputs": [
    {
     "data": {
      "text/html": [
       "<div>\n",
       "<style scoped>\n",
       "    .dataframe tbody tr th:only-of-type {\n",
       "        vertical-align: middle;\n",
       "    }\n",
       "\n",
       "    .dataframe tbody tr th {\n",
       "        vertical-align: top;\n",
       "    }\n",
       "\n",
       "    .dataframe thead th {\n",
       "        text-align: right;\n",
       "    }\n",
       "</style>\n",
       "<table border=\"1\" class=\"dataframe\">\n",
       "  <thead>\n",
       "    <tr style=\"text-align: right;\">\n",
       "      <th></th>\n",
       "      <th>value_counts</th>\n",
       "    </tr>\n",
       "    <tr>\n",
       "      <th>engine-location</th>\n",
       "      <th></th>\n",
       "    </tr>\n",
       "  </thead>\n",
       "  <tbody>\n",
       "    <tr>\n",
       "      <th>front</th>\n",
       "      <td>198</td>\n",
       "    </tr>\n",
       "    <tr>\n",
       "      <th>rear</th>\n",
       "      <td>3</td>\n",
       "    </tr>\n",
       "  </tbody>\n",
       "</table>\n",
       "</div>"
      ],
      "text/plain": [
       "                 value_counts\n",
       "engine-location              \n",
       "front                     198\n",
       "rear                        3"
      ]
     },
     "execution_count": 31,
     "metadata": {},
     "output_type": "execute_result"
    }
   ],
   "source": [
    "# engine-location as variable\n",
    "engine_loc_counts = df['engine-location'].value_counts().to_frame()\n",
    "engine_loc_counts.rename(columns={'engine-location': 'value_counts'}, inplace=True)\n",
    "engine_loc_counts.index.name = 'engine-location'\n",
    "engine_loc_counts.head(10)"
   ]
  },
  {
   "cell_type": "markdown",
   "metadata": {},
   "source": [
    "<p>\n",
    "Examinando el valor del conteo de la ubicación del motor (engine-location) no sería una buena variable predictiva del precio. Esto se debe a que solo tenemos tres autos con motor trasero (rear) y 198 con motor delantero (front), este resultado es muy sesgado. Por lo tanto, no podemos sacar ninguna conclusión sobre la ubicación del motor.\n",
    "</p>"
   ]
  },
  {
   "cell_type": "markdown",
   "metadata": {},
   "source": [
    "<h2 id=\"basic_grouping\">4. \n",
    "Conceptos básicos de agrupación</h2>"
   ]
  },
  {
   "cell_type": "markdown",
   "metadata": {},
   "source": [
    "<p>El método  \"groupby\" agrupa datos por categorias.Los datos se agrupan en función de una o varias variables y el análisis se realiza en los grupos individuales..</p>\n",
    "\n",
    "<p>Se agrupa la variable \"drive-wheels\". Se observan 3 tipos de categorias.</p>"
   ]
  },
  {
   "cell_type": "code",
   "execution_count": 32,
   "metadata": {},
   "outputs": [
    {
     "data": {
      "text/plain": [
       "array(['rwd', 'fwd', '4wd'], dtype=object)"
      ]
     },
     "execution_count": 32,
     "metadata": {},
     "output_type": "execute_result"
    }
   ],
   "source": [
    "df['drive-wheels'].unique()"
   ]
  },
  {
   "cell_type": "markdown",
   "metadata": {},
   "source": [
    "<p>Si queremos saber, en promedio, qué tipo de rueda motriz es más valiosa, podemos agrupar las \"drive-wheels\" y luego promediarlas..</p>\n",
    "\n",
    "<p>Podemos seleccionar las columnas 'drive-wheels', 'body-style' y 'price', luego asignarlo a la variable \"df_group_one\".</p>"
   ]
  },
  {
   "cell_type": "code",
   "execution_count": 33,
   "metadata": {},
   "outputs": [],
   "source": [
    "df_group_one = df[['drive-wheels','body-style','price']]"
   ]
  },
  {
   "cell_type": "markdown",
   "metadata": {},
   "source": [
    "Luego podemos calcular el precio promedio para cada una de las diferentes categorías de datos"
   ]
  },
  {
   "cell_type": "code",
   "execution_count": 34,
   "metadata": {},
   "outputs": [
    {
     "data": {
      "text/html": [
       "<div>\n",
       "<style scoped>\n",
       "    .dataframe tbody tr th:only-of-type {\n",
       "        vertical-align: middle;\n",
       "    }\n",
       "\n",
       "    .dataframe tbody tr th {\n",
       "        vertical-align: top;\n",
       "    }\n",
       "\n",
       "    .dataframe thead th {\n",
       "        text-align: right;\n",
       "    }\n",
       "</style>\n",
       "<table border=\"1\" class=\"dataframe\">\n",
       "  <thead>\n",
       "    <tr style=\"text-align: right;\">\n",
       "      <th></th>\n",
       "      <th>drive-wheels</th>\n",
       "      <th>body-style</th>\n",
       "      <th>price</th>\n",
       "    </tr>\n",
       "  </thead>\n",
       "  <tbody>\n",
       "    <tr>\n",
       "      <th>0</th>\n",
       "      <td>rwd</td>\n",
       "      <td>convertible</td>\n",
       "      <td>13495.0</td>\n",
       "    </tr>\n",
       "    <tr>\n",
       "      <th>1</th>\n",
       "      <td>rwd</td>\n",
       "      <td>convertible</td>\n",
       "      <td>16500.0</td>\n",
       "    </tr>\n",
       "    <tr>\n",
       "      <th>2</th>\n",
       "      <td>rwd</td>\n",
       "      <td>hatchback</td>\n",
       "      <td>16500.0</td>\n",
       "    </tr>\n",
       "    <tr>\n",
       "      <th>3</th>\n",
       "      <td>fwd</td>\n",
       "      <td>sedan</td>\n",
       "      <td>13950.0</td>\n",
       "    </tr>\n",
       "    <tr>\n",
       "      <th>4</th>\n",
       "      <td>4wd</td>\n",
       "      <td>sedan</td>\n",
       "      <td>17450.0</td>\n",
       "    </tr>\n",
       "  </tbody>\n",
       "</table>\n",
       "</div>"
      ],
      "text/plain": [
       "  drive-wheels   body-style    price\n",
       "0          rwd  convertible  13495.0\n",
       "1          rwd  convertible  16500.0\n",
       "2          rwd    hatchback  16500.0\n",
       "3          fwd        sedan  13950.0\n",
       "4          4wd        sedan  17450.0"
      ]
     },
     "execution_count": 34,
     "metadata": {},
     "output_type": "execute_result"
    }
   ],
   "source": [
    "df_group_one.head()"
   ]
  },
  {
   "cell_type": "code",
   "execution_count": 35,
   "metadata": {},
   "outputs": [
    {
     "data": {
      "text/html": [
       "<div>\n",
       "<style scoped>\n",
       "    .dataframe tbody tr th:only-of-type {\n",
       "        vertical-align: middle;\n",
       "    }\n",
       "\n",
       "    .dataframe tbody tr th {\n",
       "        vertical-align: top;\n",
       "    }\n",
       "\n",
       "    .dataframe thead th {\n",
       "        text-align: right;\n",
       "    }\n",
       "</style>\n",
       "<table border=\"1\" class=\"dataframe\">\n",
       "  <thead>\n",
       "    <tr style=\"text-align: right;\">\n",
       "      <th></th>\n",
       "      <th>drive-wheels</th>\n",
       "      <th>price</th>\n",
       "    </tr>\n",
       "  </thead>\n",
       "  <tbody>\n",
       "    <tr>\n",
       "      <th>0</th>\n",
       "      <td>4wd</td>\n",
       "      <td>10241.000000</td>\n",
       "    </tr>\n",
       "    <tr>\n",
       "      <th>1</th>\n",
       "      <td>fwd</td>\n",
       "      <td>9244.779661</td>\n",
       "    </tr>\n",
       "    <tr>\n",
       "      <th>2</th>\n",
       "      <td>rwd</td>\n",
       "      <td>19757.613333</td>\n",
       "    </tr>\n",
       "  </tbody>\n",
       "</table>\n",
       "</div>"
      ],
      "text/plain": [
       "  drive-wheels         price\n",
       "0          4wd  10241.000000\n",
       "1          fwd   9244.779661\n",
       "2          rwd  19757.613333"
      ]
     },
     "execution_count": 35,
     "metadata": {},
     "output_type": "execute_result"
    }
   ],
   "source": [
    "# grouping results\n",
    "df_group_one = df_group_one.groupby(['drive-wheels'],as_index=False).mean()\n",
    "df_group_one"
   ]
  },
  {
   "cell_type": "markdown",
   "metadata": {},
   "source": [
    "<p>\n",
    "Según nuestros datos, parece que los vehículos con tracción trasera  (rear-wheel) son, en promedio, los más caros, mientras que las 4 ruedas (4-wheel) y las ruedas delanteras (front-wheel) tienen aproximadamente el mismo precio.\n",
    "</p>\n",
    "\n",
    "<p>\n",
    "También puede agrupar con múltiples variables. Por ejemplo, agrupemos por ''drive-wheels' y 'body-style'. Esto agrupa el marco de datos por las combinaciones únicas 'drive-wheels' y 'body-style'. Podemos almacenar los resultados en la variable 'grouped_test1'.</p>"
   ]
  },
  {
   "cell_type": "code",
   "execution_count": 36,
   "metadata": {},
   "outputs": [
    {
     "data": {
      "text/html": [
       "<div>\n",
       "<style scoped>\n",
       "    .dataframe tbody tr th:only-of-type {\n",
       "        vertical-align: middle;\n",
       "    }\n",
       "\n",
       "    .dataframe tbody tr th {\n",
       "        vertical-align: top;\n",
       "    }\n",
       "\n",
       "    .dataframe thead th {\n",
       "        text-align: right;\n",
       "    }\n",
       "</style>\n",
       "<table border=\"1\" class=\"dataframe\">\n",
       "  <thead>\n",
       "    <tr style=\"text-align: right;\">\n",
       "      <th></th>\n",
       "      <th>drive-wheels</th>\n",
       "      <th>body-style</th>\n",
       "      <th>price</th>\n",
       "    </tr>\n",
       "  </thead>\n",
       "  <tbody>\n",
       "    <tr>\n",
       "      <th>0</th>\n",
       "      <td>4wd</td>\n",
       "      <td>hatchback</td>\n",
       "      <td>7603.000000</td>\n",
       "    </tr>\n",
       "    <tr>\n",
       "      <th>1</th>\n",
       "      <td>4wd</td>\n",
       "      <td>sedan</td>\n",
       "      <td>12647.333333</td>\n",
       "    </tr>\n",
       "    <tr>\n",
       "      <th>2</th>\n",
       "      <td>4wd</td>\n",
       "      <td>wagon</td>\n",
       "      <td>9095.750000</td>\n",
       "    </tr>\n",
       "    <tr>\n",
       "      <th>3</th>\n",
       "      <td>fwd</td>\n",
       "      <td>convertible</td>\n",
       "      <td>11595.000000</td>\n",
       "    </tr>\n",
       "    <tr>\n",
       "      <th>4</th>\n",
       "      <td>fwd</td>\n",
       "      <td>hardtop</td>\n",
       "      <td>8249.000000</td>\n",
       "    </tr>\n",
       "    <tr>\n",
       "      <th>5</th>\n",
       "      <td>fwd</td>\n",
       "      <td>hatchback</td>\n",
       "      <td>8396.387755</td>\n",
       "    </tr>\n",
       "    <tr>\n",
       "      <th>6</th>\n",
       "      <td>fwd</td>\n",
       "      <td>sedan</td>\n",
       "      <td>9811.800000</td>\n",
       "    </tr>\n",
       "    <tr>\n",
       "      <th>7</th>\n",
       "      <td>fwd</td>\n",
       "      <td>wagon</td>\n",
       "      <td>9997.333333</td>\n",
       "    </tr>\n",
       "    <tr>\n",
       "      <th>8</th>\n",
       "      <td>rwd</td>\n",
       "      <td>convertible</td>\n",
       "      <td>23949.600000</td>\n",
       "    </tr>\n",
       "    <tr>\n",
       "      <th>9</th>\n",
       "      <td>rwd</td>\n",
       "      <td>hardtop</td>\n",
       "      <td>24202.714286</td>\n",
       "    </tr>\n",
       "    <tr>\n",
       "      <th>10</th>\n",
       "      <td>rwd</td>\n",
       "      <td>hatchback</td>\n",
       "      <td>14337.777778</td>\n",
       "    </tr>\n",
       "    <tr>\n",
       "      <th>11</th>\n",
       "      <td>rwd</td>\n",
       "      <td>sedan</td>\n",
       "      <td>21711.833333</td>\n",
       "    </tr>\n",
       "    <tr>\n",
       "      <th>12</th>\n",
       "      <td>rwd</td>\n",
       "      <td>wagon</td>\n",
       "      <td>16994.222222</td>\n",
       "    </tr>\n",
       "  </tbody>\n",
       "</table>\n",
       "</div>"
      ],
      "text/plain": [
       "   drive-wheels   body-style         price\n",
       "0           4wd    hatchback   7603.000000\n",
       "1           4wd        sedan  12647.333333\n",
       "2           4wd        wagon   9095.750000\n",
       "3           fwd  convertible  11595.000000\n",
       "4           fwd      hardtop   8249.000000\n",
       "5           fwd    hatchback   8396.387755\n",
       "6           fwd        sedan   9811.800000\n",
       "7           fwd        wagon   9997.333333\n",
       "8           rwd  convertible  23949.600000\n",
       "9           rwd      hardtop  24202.714286\n",
       "10          rwd    hatchback  14337.777778\n",
       "11          rwd        sedan  21711.833333\n",
       "12          rwd        wagon  16994.222222"
      ]
     },
     "execution_count": 36,
     "metadata": {},
     "output_type": "execute_result"
    }
   ],
   "source": [
    "# grouping results\n",
    "df_gptest = df[['drive-wheels','body-style','price']]\n",
    "grouped_test1 = df_gptest.groupby(['drive-wheels','body-style'],as_index=False).mean()\n",
    "grouped_test1"
   ]
  },
  {
   "cell_type": "markdown",
   "metadata": {},
   "source": [
    "<p>Estos datos agrupados son mucho más fáciles de visualizar cuando se convierten en una pivot table. Una pivot table es como una hoja de cálculo de Excel, con una variable a lo largo de la columna y otra a lo largo de la fila. Podemos convertir un dataframe en una tabla dinámica utilizando el método \"pivot\" para crear una pivot table desde grupos\n",
    "</p>\n",
    "\n",
    "<p>En este caso, dejaremos la variable de la rueda motriz (drive-wheel) como las filas de la tabla y giraremos el estilo del cuerpo (body-style ) para convertirlas en las columnas de la tabla:</p>"
   ]
  },
  {
   "cell_type": "code",
   "execution_count": 37,
   "metadata": {},
   "outputs": [
    {
     "data": {
      "text/html": [
       "<div>\n",
       "<style scoped>\n",
       "    .dataframe tbody tr th:only-of-type {\n",
       "        vertical-align: middle;\n",
       "    }\n",
       "\n",
       "    .dataframe tbody tr th {\n",
       "        vertical-align: top;\n",
       "    }\n",
       "\n",
       "    .dataframe thead tr th {\n",
       "        text-align: left;\n",
       "    }\n",
       "\n",
       "    .dataframe thead tr:last-of-type th {\n",
       "        text-align: right;\n",
       "    }\n",
       "</style>\n",
       "<table border=\"1\" class=\"dataframe\">\n",
       "  <thead>\n",
       "    <tr>\n",
       "      <th></th>\n",
       "      <th colspan=\"5\" halign=\"left\">price</th>\n",
       "    </tr>\n",
       "    <tr>\n",
       "      <th>body-style</th>\n",
       "      <th>convertible</th>\n",
       "      <th>hardtop</th>\n",
       "      <th>hatchback</th>\n",
       "      <th>sedan</th>\n",
       "      <th>wagon</th>\n",
       "    </tr>\n",
       "    <tr>\n",
       "      <th>drive-wheels</th>\n",
       "      <th></th>\n",
       "      <th></th>\n",
       "      <th></th>\n",
       "      <th></th>\n",
       "      <th></th>\n",
       "    </tr>\n",
       "  </thead>\n",
       "  <tbody>\n",
       "    <tr>\n",
       "      <th>4wd</th>\n",
       "      <td>NaN</td>\n",
       "      <td>NaN</td>\n",
       "      <td>7603.000000</td>\n",
       "      <td>12647.333333</td>\n",
       "      <td>9095.750000</td>\n",
       "    </tr>\n",
       "    <tr>\n",
       "      <th>fwd</th>\n",
       "      <td>11595.0</td>\n",
       "      <td>8249.000000</td>\n",
       "      <td>8396.387755</td>\n",
       "      <td>9811.800000</td>\n",
       "      <td>9997.333333</td>\n",
       "    </tr>\n",
       "    <tr>\n",
       "      <th>rwd</th>\n",
       "      <td>23949.6</td>\n",
       "      <td>24202.714286</td>\n",
       "      <td>14337.777778</td>\n",
       "      <td>21711.833333</td>\n",
       "      <td>16994.222222</td>\n",
       "    </tr>\n",
       "  </tbody>\n",
       "</table>\n",
       "</div>"
      ],
      "text/plain": [
       "                   price                                            \\\n",
       "body-style   convertible       hardtop     hatchback         sedan   \n",
       "drive-wheels                                                         \n",
       "4wd                  NaN           NaN   7603.000000  12647.333333   \n",
       "fwd              11595.0   8249.000000   8396.387755   9811.800000   \n",
       "rwd              23949.6  24202.714286  14337.777778  21711.833333   \n",
       "\n",
       "                            \n",
       "body-style           wagon  \n",
       "drive-wheels                \n",
       "4wd            9095.750000  \n",
       "fwd            9997.333333  \n",
       "rwd           16994.222222  "
      ]
     },
     "execution_count": 37,
     "metadata": {},
     "output_type": "execute_result"
    }
   ],
   "source": [
    "grouped_pivot = grouped_test1.pivot(index='drive-wheels',columns='body-style')\n",
    "grouped_pivot"
   ]
  },
  {
   "cell_type": "markdown",
   "metadata": {},
   "source": [
    "<p>\n",
    "A menudo, no tendremos datos para algunas de las celdas dinámicas. Podemos llenar estas celdas faltantes con el valor 0, pero cualquier otro valor también podría usarse. Cabe mencionar que la falta de datos es un tema bastante complejo y es un curso completo por sí solo.\n",
    "</p>"
   ]
  },
  {
   "cell_type": "code",
   "execution_count": 38,
   "metadata": {
    "scrolled": true
   },
   "outputs": [
    {
     "data": {
      "text/html": [
       "<div>\n",
       "<style scoped>\n",
       "    .dataframe tbody tr th:only-of-type {\n",
       "        vertical-align: middle;\n",
       "    }\n",
       "\n",
       "    .dataframe tbody tr th {\n",
       "        vertical-align: top;\n",
       "    }\n",
       "\n",
       "    .dataframe thead tr th {\n",
       "        text-align: left;\n",
       "    }\n",
       "\n",
       "    .dataframe thead tr:last-of-type th {\n",
       "        text-align: right;\n",
       "    }\n",
       "</style>\n",
       "<table border=\"1\" class=\"dataframe\">\n",
       "  <thead>\n",
       "    <tr>\n",
       "      <th></th>\n",
       "      <th colspan=\"5\" halign=\"left\">price</th>\n",
       "    </tr>\n",
       "    <tr>\n",
       "      <th>body-style</th>\n",
       "      <th>convertible</th>\n",
       "      <th>hardtop</th>\n",
       "      <th>hatchback</th>\n",
       "      <th>sedan</th>\n",
       "      <th>wagon</th>\n",
       "    </tr>\n",
       "    <tr>\n",
       "      <th>drive-wheels</th>\n",
       "      <th></th>\n",
       "      <th></th>\n",
       "      <th></th>\n",
       "      <th></th>\n",
       "      <th></th>\n",
       "    </tr>\n",
       "  </thead>\n",
       "  <tbody>\n",
       "    <tr>\n",
       "      <th>4wd</th>\n",
       "      <td>0.0</td>\n",
       "      <td>0.000000</td>\n",
       "      <td>7603.000000</td>\n",
       "      <td>12647.333333</td>\n",
       "      <td>9095.750000</td>\n",
       "    </tr>\n",
       "    <tr>\n",
       "      <th>fwd</th>\n",
       "      <td>11595.0</td>\n",
       "      <td>8249.000000</td>\n",
       "      <td>8396.387755</td>\n",
       "      <td>9811.800000</td>\n",
       "      <td>9997.333333</td>\n",
       "    </tr>\n",
       "    <tr>\n",
       "      <th>rwd</th>\n",
       "      <td>23949.6</td>\n",
       "      <td>24202.714286</td>\n",
       "      <td>14337.777778</td>\n",
       "      <td>21711.833333</td>\n",
       "      <td>16994.222222</td>\n",
       "    </tr>\n",
       "  </tbody>\n",
       "</table>\n",
       "</div>"
      ],
      "text/plain": [
       "                   price                                            \\\n",
       "body-style   convertible       hardtop     hatchback         sedan   \n",
       "drive-wheels                                                         \n",
       "4wd                  0.0      0.000000   7603.000000  12647.333333   \n",
       "fwd              11595.0   8249.000000   8396.387755   9811.800000   \n",
       "rwd              23949.6  24202.714286  14337.777778  21711.833333   \n",
       "\n",
       "                            \n",
       "body-style           wagon  \n",
       "drive-wheels                \n",
       "4wd            9095.750000  \n",
       "fwd            9997.333333  \n",
       "rwd           16994.222222  "
      ]
     },
     "execution_count": 38,
     "metadata": {},
     "output_type": "execute_result"
    }
   ],
   "source": [
    "grouped_pivot = grouped_pivot.fillna(0) #fill missing values with 0\n",
    "grouped_pivot"
   ]
  },
  {
   "cell_type": "markdown",
   "metadata": {},
   "source": [
    "<div class=\"alert alert-danger alertdanger\" style=\"margin-top: 20px\">\n",
    "<h1>Pregunta 4:</h1>\n",
    "\n",
    "<p>Usar la funcion  \"groupby\" para encontrar el promedio del  \"price\" de cada auto basado en \"body-style\" ? </p>\n",
    "</div>"
   ]
  },
  {
   "cell_type": "code",
   "execution_count": 39,
   "metadata": {},
   "outputs": [
    {
     "data": {
      "text/html": [
       "<div>\n",
       "<style scoped>\n",
       "    .dataframe tbody tr th:only-of-type {\n",
       "        vertical-align: middle;\n",
       "    }\n",
       "\n",
       "    .dataframe tbody tr th {\n",
       "        vertical-align: top;\n",
       "    }\n",
       "\n",
       "    .dataframe thead th {\n",
       "        text-align: right;\n",
       "    }\n",
       "</style>\n",
       "<table border=\"1\" class=\"dataframe\">\n",
       "  <thead>\n",
       "    <tr style=\"text-align: right;\">\n",
       "      <th></th>\n",
       "      <th>body-style</th>\n",
       "      <th>price</th>\n",
       "    </tr>\n",
       "  </thead>\n",
       "  <tbody>\n",
       "    <tr>\n",
       "      <th>0</th>\n",
       "      <td>convertible</td>\n",
       "      <td>21890.500000</td>\n",
       "    </tr>\n",
       "    <tr>\n",
       "      <th>1</th>\n",
       "      <td>hardtop</td>\n",
       "      <td>22208.500000</td>\n",
       "    </tr>\n",
       "    <tr>\n",
       "      <th>2</th>\n",
       "      <td>hatchback</td>\n",
       "      <td>9957.441176</td>\n",
       "    </tr>\n",
       "    <tr>\n",
       "      <th>3</th>\n",
       "      <td>sedan</td>\n",
       "      <td>14459.755319</td>\n",
       "    </tr>\n",
       "    <tr>\n",
       "      <th>4</th>\n",
       "      <td>wagon</td>\n",
       "      <td>12371.960000</td>\n",
       "    </tr>\n",
       "  </tbody>\n",
       "</table>\n",
       "</div>"
      ],
      "text/plain": [
       "    body-style         price\n",
       "0  convertible  21890.500000\n",
       "1      hardtop  22208.500000\n",
       "2    hatchback   9957.441176\n",
       "3        sedan  14459.755319\n",
       "4        wagon  12371.960000"
      ]
     },
     "execution_count": 39,
     "metadata": {},
     "output_type": "execute_result"
    }
   ],
   "source": [
    "# Respuesta\n",
    "df_gptest2 = df[['body-style','price']]\n",
    "grouped_test_bodystyle = df_gptest2.groupby(['body-style'],as_index= False).mean()\n",
    "grouped_test_bodystyle"
   ]
  },
  {
   "cell_type": "code",
   "execution_count": 40,
   "metadata": {},
   "outputs": [],
   "source": [
    "import matplotlib.pyplot as plt\n",
    "%matplotlib inline "
   ]
  },
  {
   "cell_type": "markdown",
   "metadata": {},
   "source": [
    "<h4>Variables: Drive Wheels y Body Style vs Price</h4>"
   ]
  },
  {
   "cell_type": "markdown",
   "metadata": {},
   "source": [
    "<p>\n",
    "El heatmap (mapa de calor) traza la variable objetivo (precio) proporcional al color con respecto a las variables 'drive-wheel' y 'body-style' en los ejes vertical y horizontal, respectivamente. Esto nos permite visualizar cómo se relaciona el precio con 'drive-wheel' y 'body-style'</p>\n"
   ]
  },
  {
   "cell_type": "code",
   "execution_count": 41,
   "metadata": {},
   "outputs": [
    {
     "data": {
      "image/png": "[encoded data removed]",
      "text/plain": [
       "<Figure size 432x288 with 2 Axes>"
      ]
     },
     "metadata": {
      "needs_background": "light"
     },
     "output_type": "display_data"
    }
   ],
   "source": [
    "fig, ax = plt.subplots()\n",
    "im = ax.pcolor(grouped_pivot, cmap='RdBu')\n",
    "\n",
    "#label names\n",
    "row_labels = grouped_pivot.columns.levels[1]\n",
    "col_labels = grouped_pivot.index\n",
    "\n",
    "#move ticks and labels to the center\n",
    "ax.set_xticks(np.arange(grouped_pivot.shape[1]) + 0.5, minor=False)\n",
    "ax.set_yticks(np.arange(grouped_pivot.shape[0]) + 0.5, minor=False)\n",
    "\n",
    "#insert labels\n",
    "ax.set_xticklabels(row_labels, minor=False)\n",
    "ax.set_yticklabels(col_labels, minor=False)\n",
    "\n",
    "#rotate label if too long\n",
    "plt.xticks(rotation=90)\n",
    "\n",
    "fig.colorbar(im, label=\"precio\")\n",
    "plt.show()"
   ]
  },
  {
   "cell_type": "markdown",
   "metadata": {},
   "source": [
    "<p>La visualización es muy importante en la ciencia de datos, y los paquetes de visualización de Python proporcionan una gran libertad. </p>\n",
    "\n",
    "<p>La pregunta principal que queremos responder en este módulo es \"¿Cuáles son las principales características que tienen el mayor impacto en el precio del automóvil?\". </p>\n",
    "\n",
    "<p> Para obtener una mejor medición de las características importantes, observamos la correlación de estas variables con el precio del automóvil, en otras palabras: ¿cómo depende el precio del automóvil de esta variable? </p>"
   ]
  },
  {
   "cell_type": "code",
   "execution_count": 42,
   "metadata": {},
   "outputs": [
    {
     "data": {
      "text/html": [
       "<div>\n",
       "<style scoped>\n",
       "    .dataframe tbody tr th:only-of-type {\n",
       "        vertical-align: middle;\n",
       "    }\n",
       "\n",
       "    .dataframe tbody tr th {\n",
       "        vertical-align: top;\n",
       "    }\n",
       "\n",
       "    .dataframe thead th {\n",
       "        text-align: right;\n",
       "    }\n",
       "</style>\n",
       "<table border=\"1\" class=\"dataframe\">\n",
       "  <thead>\n",
       "    <tr style=\"text-align: right;\">\n",
       "      <th></th>\n",
       "      <th>fuel-system</th>\n",
       "      <th>num-of-cylinders</th>\n",
       "      <th>price</th>\n",
       "    </tr>\n",
       "  </thead>\n",
       "  <tbody>\n",
       "    <tr>\n",
       "      <th>0</th>\n",
       "      <td>1bbl</td>\n",
       "      <td>four</td>\n",
       "      <td>7555.545455</td>\n",
       "    </tr>\n",
       "    <tr>\n",
       "      <th>1</th>\n",
       "      <td>2bbl</td>\n",
       "      <td>four</td>\n",
       "      <td>7469.428571</td>\n",
       "    </tr>\n",
       "    <tr>\n",
       "      <th>2</th>\n",
       "      <td>2bbl</td>\n",
       "      <td>three</td>\n",
       "      <td>5151.000000</td>\n",
       "    </tr>\n",
       "    <tr>\n",
       "      <th>3</th>\n",
       "      <td>4bbl</td>\n",
       "      <td>two</td>\n",
       "      <td>12145.000000</td>\n",
       "    </tr>\n",
       "    <tr>\n",
       "      <th>4</th>\n",
       "      <td>idi</td>\n",
       "      <td>five</td>\n",
       "      <td>28394.000000</td>\n",
       "    </tr>\n",
       "    <tr>\n",
       "      <th>5</th>\n",
       "      <td>idi</td>\n",
       "      <td>four</td>\n",
       "      <td>12047.800000</td>\n",
       "    </tr>\n",
       "    <tr>\n",
       "      <th>6</th>\n",
       "      <td>idi</td>\n",
       "      <td>six</td>\n",
       "      <td>22470.000000</td>\n",
       "    </tr>\n",
       "    <tr>\n",
       "      <th>7</th>\n",
       "      <td>mfi</td>\n",
       "      <td>four</td>\n",
       "      <td>12964.000000</td>\n",
       "    </tr>\n",
       "    <tr>\n",
       "      <th>8</th>\n",
       "      <td>mpfi</td>\n",
       "      <td>eight</td>\n",
       "      <td>38900.000000</td>\n",
       "    </tr>\n",
       "    <tr>\n",
       "      <th>9</th>\n",
       "      <td>mpfi</td>\n",
       "      <td>five</td>\n",
       "      <td>17750.000000</td>\n",
       "    </tr>\n",
       "    <tr>\n",
       "      <th>10</th>\n",
       "      <td>mpfi</td>\n",
       "      <td>four</td>\n",
       "      <td>13338.140351</td>\n",
       "    </tr>\n",
       "    <tr>\n",
       "      <th>11</th>\n",
       "      <td>mpfi</td>\n",
       "      <td>six</td>\n",
       "      <td>23724.086957</td>\n",
       "    </tr>\n",
       "    <tr>\n",
       "      <th>12</th>\n",
       "      <td>mpfi</td>\n",
       "      <td>twelve</td>\n",
       "      <td>36000.000000</td>\n",
       "    </tr>\n",
       "    <tr>\n",
       "      <th>13</th>\n",
       "      <td>mpfi</td>\n",
       "      <td>two</td>\n",
       "      <td>15645.000000</td>\n",
       "    </tr>\n",
       "    <tr>\n",
       "      <th>14</th>\n",
       "      <td>spdi</td>\n",
       "      <td>four</td>\n",
       "      <td>10990.444444</td>\n",
       "    </tr>\n",
       "    <tr>\n",
       "      <th>15</th>\n",
       "      <td>spfi</td>\n",
       "      <td>four</td>\n",
       "      <td>11048.000000</td>\n",
       "    </tr>\n",
       "  </tbody>\n",
       "</table>\n",
       "</div>"
      ],
      "text/plain": [
       "   fuel-system num-of-cylinders         price\n",
       "0         1bbl             four   7555.545455\n",
       "1         2bbl             four   7469.428571\n",
       "2         2bbl            three   5151.000000\n",
       "3         4bbl              two  12145.000000\n",
       "4          idi             five  28394.000000\n",
       "5          idi             four  12047.800000\n",
       "6          idi              six  22470.000000\n",
       "7          mfi             four  12964.000000\n",
       "8         mpfi            eight  38900.000000\n",
       "9         mpfi             five  17750.000000\n",
       "10        mpfi             four  13338.140351\n",
       "11        mpfi              six  23724.086957\n",
       "12        mpfi           twelve  36000.000000\n",
       "13        mpfi              two  15645.000000\n",
       "14        spdi             four  10990.444444\n",
       "15        spfi             four  11048.000000"
      ]
     },
     "execution_count": 42,
     "metadata": {},
     "output_type": "execute_result"
    }
   ],
   "source": [
    "# grouping results\n",
    "df_gptest2 = df[['fuel-system','num-of-cylinders','price']]\n",
    "grouped_test2 = df_gptest2.groupby(['fuel-system','num-of-cylinders'],as_index=False).mean()\n",
    "grouped_test2"
   ]
  },
  {
   "cell_type": "code",
   "execution_count": 43,
   "metadata": {},
   "outputs": [
    {
     "data": {
      "text/html": [
       "<div>\n",
       "<style scoped>\n",
       "    .dataframe tbody tr th:only-of-type {\n",
       "        vertical-align: middle;\n",
       "    }\n",
       "\n",
       "    .dataframe tbody tr th {\n",
       "        vertical-align: top;\n",
       "    }\n",
       "\n",
       "    .dataframe thead tr th {\n",
       "        text-align: left;\n",
       "    }\n",
       "\n",
       "    .dataframe thead tr:last-of-type th {\n",
       "        text-align: right;\n",
       "    }\n",
       "</style>\n",
       "<table border=\"1\" class=\"dataframe\">\n",
       "  <thead>\n",
       "    <tr>\n",
       "      <th></th>\n",
       "      <th colspan=\"7\" halign=\"left\">price</th>\n",
       "    </tr>\n",
       "    <tr>\n",
       "      <th>num-of-cylinders</th>\n",
       "      <th>eight</th>\n",
       "      <th>five</th>\n",
       "      <th>four</th>\n",
       "      <th>six</th>\n",
       "      <th>three</th>\n",
       "      <th>twelve</th>\n",
       "      <th>two</th>\n",
       "    </tr>\n",
       "    <tr>\n",
       "      <th>fuel-system</th>\n",
       "      <th></th>\n",
       "      <th></th>\n",
       "      <th></th>\n",
       "      <th></th>\n",
       "      <th></th>\n",
       "      <th></th>\n",
       "      <th></th>\n",
       "    </tr>\n",
       "  </thead>\n",
       "  <tbody>\n",
       "    <tr>\n",
       "      <th>1bbl</th>\n",
       "      <td>NaN</td>\n",
       "      <td>NaN</td>\n",
       "      <td>7555.545455</td>\n",
       "      <td>NaN</td>\n",
       "      <td>NaN</td>\n",
       "      <td>NaN</td>\n",
       "      <td>NaN</td>\n",
       "    </tr>\n",
       "    <tr>\n",
       "      <th>2bbl</th>\n",
       "      <td>NaN</td>\n",
       "      <td>NaN</td>\n",
       "      <td>7469.428571</td>\n",
       "      <td>NaN</td>\n",
       "      <td>5151.0</td>\n",
       "      <td>NaN</td>\n",
       "      <td>NaN</td>\n",
       "    </tr>\n",
       "    <tr>\n",
       "      <th>4bbl</th>\n",
       "      <td>NaN</td>\n",
       "      <td>NaN</td>\n",
       "      <td>NaN</td>\n",
       "      <td>NaN</td>\n",
       "      <td>NaN</td>\n",
       "      <td>NaN</td>\n",
       "      <td>12145.0</td>\n",
       "    </tr>\n",
       "    <tr>\n",
       "      <th>idi</th>\n",
       "      <td>NaN</td>\n",
       "      <td>28394.0</td>\n",
       "      <td>12047.800000</td>\n",
       "      <td>22470.000000</td>\n",
       "      <td>NaN</td>\n",
       "      <td>NaN</td>\n",
       "      <td>NaN</td>\n",
       "    </tr>\n",
       "    <tr>\n",
       "      <th>mfi</th>\n",
       "      <td>NaN</td>\n",
       "      <td>NaN</td>\n",
       "      <td>12964.000000</td>\n",
       "      <td>NaN</td>\n",
       "      <td>NaN</td>\n",
       "      <td>NaN</td>\n",
       "      <td>NaN</td>\n",
       "    </tr>\n",
       "    <tr>\n",
       "      <th>mpfi</th>\n",
       "      <td>38900.0</td>\n",
       "      <td>17750.0</td>\n",
       "      <td>13338.140351</td>\n",
       "      <td>23724.086957</td>\n",
       "      <td>NaN</td>\n",
       "      <td>36000.0</td>\n",
       "      <td>15645.0</td>\n",
       "    </tr>\n",
       "    <tr>\n",
       "      <th>spdi</th>\n",
       "      <td>NaN</td>\n",
       "      <td>NaN</td>\n",
       "      <td>10990.444444</td>\n",
       "      <td>NaN</td>\n",
       "      <td>NaN</td>\n",
       "      <td>NaN</td>\n",
       "      <td>NaN</td>\n",
       "    </tr>\n",
       "    <tr>\n",
       "      <th>spfi</th>\n",
       "      <td>NaN</td>\n",
       "      <td>NaN</td>\n",
       "      <td>11048.000000</td>\n",
       "      <td>NaN</td>\n",
       "      <td>NaN</td>\n",
       "      <td>NaN</td>\n",
       "      <td>NaN</td>\n",
       "    </tr>\n",
       "  </tbody>\n",
       "</table>\n",
       "</div>"
      ],
      "text/plain": [
       "                    price                                               \\\n",
       "num-of-cylinders    eight     five          four           six   three   \n",
       "fuel-system                                                              \n",
       "1bbl                  NaN      NaN   7555.545455           NaN     NaN   \n",
       "2bbl                  NaN      NaN   7469.428571           NaN  5151.0   \n",
       "4bbl                  NaN      NaN           NaN           NaN     NaN   \n",
       "idi                   NaN  28394.0  12047.800000  22470.000000     NaN   \n",
       "mfi                   NaN      NaN  12964.000000           NaN     NaN   \n",
       "mpfi              38900.0  17750.0  13338.140351  23724.086957     NaN   \n",
       "spdi                  NaN      NaN  10990.444444           NaN     NaN   \n",
       "spfi                  NaN      NaN  11048.000000           NaN     NaN   \n",
       "\n",
       "                                    \n",
       "num-of-cylinders   twelve      two  \n",
       "fuel-system                         \n",
       "1bbl                  NaN      NaN  \n",
       "2bbl                  NaN      NaN  \n",
       "4bbl                  NaN  12145.0  \n",
       "idi                   NaN      NaN  \n",
       "mfi                   NaN      NaN  \n",
       "mpfi              36000.0  15645.0  \n",
       "spdi                  NaN      NaN  \n",
       "spfi                  NaN      NaN  "
      ]
     },
     "execution_count": 43,
     "metadata": {},
     "output_type": "execute_result"
    }
   ],
   "source": [
    "grouped_pivot2 = grouped_test2.pivot(index='fuel-system',columns='num-of-cylinders')\n",
    "grouped_pivot2"
   ]
  },
  {
   "cell_type": "code",
   "execution_count": 44,
   "metadata": {
    "scrolled": true
   },
   "outputs": [
    {
     "data": {
      "text/html": [
       "<div>\n",
       "<style scoped>\n",
       "    .dataframe tbody tr th:only-of-type {\n",
       "        vertical-align: middle;\n",
       "    }\n",
       "\n",
       "    .dataframe tbody tr th {\n",
       "        vertical-align: top;\n",
       "    }\n",
       "\n",
       "    .dataframe thead tr th {\n",
       "        text-align: left;\n",
       "    }\n",
       "\n",
       "    .dataframe thead tr:last-of-type th {\n",
       "        text-align: right;\n",
       "    }\n",
       "</style>\n",
       "<table border=\"1\" class=\"dataframe\">\n",
       "  <thead>\n",
       "    <tr>\n",
       "      <th></th>\n",
       "      <th colspan=\"7\" halign=\"left\">price</th>\n",
       "    </tr>\n",
       "    <tr>\n",
       "      <th>num-of-cylinders</th>\n",
       "      <th>eight</th>\n",
       "      <th>five</th>\n",
       "      <th>four</th>\n",
       "      <th>six</th>\n",
       "      <th>three</th>\n",
       "      <th>twelve</th>\n",
       "      <th>two</th>\n",
       "    </tr>\n",
       "    <tr>\n",
       "      <th>fuel-system</th>\n",
       "      <th></th>\n",
       "      <th></th>\n",
       "      <th></th>\n",
       "      <th></th>\n",
       "      <th></th>\n",
       "      <th></th>\n",
       "      <th></th>\n",
       "    </tr>\n",
       "  </thead>\n",
       "  <tbody>\n",
       "    <tr>\n",
       "      <th>1bbl</th>\n",
       "      <td>0.0</td>\n",
       "      <td>0.0</td>\n",
       "      <td>7555.545455</td>\n",
       "      <td>0.000000</td>\n",
       "      <td>0.0</td>\n",
       "      <td>0.0</td>\n",
       "      <td>0.0</td>\n",
       "    </tr>\n",
       "    <tr>\n",
       "      <th>2bbl</th>\n",
       "      <td>0.0</td>\n",
       "      <td>0.0</td>\n",
       "      <td>7469.428571</td>\n",
       "      <td>0.000000</td>\n",
       "      <td>5151.0</td>\n",
       "      <td>0.0</td>\n",
       "      <td>0.0</td>\n",
       "    </tr>\n",
       "    <tr>\n",
       "      <th>4bbl</th>\n",
       "      <td>0.0</td>\n",
       "      <td>0.0</td>\n",
       "      <td>0.000000</td>\n",
       "      <td>0.000000</td>\n",
       "      <td>0.0</td>\n",
       "      <td>0.0</td>\n",
       "      <td>12145.0</td>\n",
       "    </tr>\n",
       "    <tr>\n",
       "      <th>idi</th>\n",
       "      <td>0.0</td>\n",
       "      <td>28394.0</td>\n",
       "      <td>12047.800000</td>\n",
       "      <td>22470.000000</td>\n",
       "      <td>0.0</td>\n",
       "      <td>0.0</td>\n",
       "      <td>0.0</td>\n",
       "    </tr>\n",
       "    <tr>\n",
       "      <th>mfi</th>\n",
       "      <td>0.0</td>\n",
       "      <td>0.0</td>\n",
       "      <td>12964.000000</td>\n",
       "      <td>0.000000</td>\n",
       "      <td>0.0</td>\n",
       "      <td>0.0</td>\n",
       "      <td>0.0</td>\n",
       "    </tr>\n",
       "    <tr>\n",
       "      <th>mpfi</th>\n",
       "      <td>38900.0</td>\n",
       "      <td>17750.0</td>\n",
       "      <td>13338.140351</td>\n",
       "      <td>23724.086957</td>\n",
       "      <td>0.0</td>\n",
       "      <td>36000.0</td>\n",
       "      <td>15645.0</td>\n",
       "    </tr>\n",
       "    <tr>\n",
       "      <th>spdi</th>\n",
       "      <td>0.0</td>\n",
       "      <td>0.0</td>\n",
       "      <td>10990.444444</td>\n",
       "      <td>0.000000</td>\n",
       "      <td>0.0</td>\n",
       "      <td>0.0</td>\n",
       "      <td>0.0</td>\n",
       "    </tr>\n",
       "    <tr>\n",
       "      <th>spfi</th>\n",
       "      <td>0.0</td>\n",
       "      <td>0.0</td>\n",
       "      <td>11048.000000</td>\n",
       "      <td>0.000000</td>\n",
       "      <td>0.0</td>\n",
       "      <td>0.0</td>\n",
       "      <td>0.0</td>\n",
       "    </tr>\n",
       "  </tbody>\n",
       "</table>\n",
       "</div>"
      ],
      "text/plain": [
       "                    price                                               \\\n",
       "num-of-cylinders    eight     five          four           six   three   \n",
       "fuel-system                                                              \n",
       "1bbl                  0.0      0.0   7555.545455      0.000000     0.0   \n",
       "2bbl                  0.0      0.0   7469.428571      0.000000  5151.0   \n",
       "4bbl                  0.0      0.0      0.000000      0.000000     0.0   \n",
       "idi                   0.0  28394.0  12047.800000  22470.000000     0.0   \n",
       "mfi                   0.0      0.0  12964.000000      0.000000     0.0   \n",
       "mpfi              38900.0  17750.0  13338.140351  23724.086957     0.0   \n",
       "spdi                  0.0      0.0  10990.444444      0.000000     0.0   \n",
       "spfi                  0.0      0.0  11048.000000      0.000000     0.0   \n",
       "\n",
       "                                    \n",
       "num-of-cylinders   twelve      two  \n",
       "fuel-system                         \n",
       "1bbl                  0.0      0.0  \n",
       "2bbl                  0.0      0.0  \n",
       "4bbl                  0.0  12145.0  \n",
       "idi                   0.0      0.0  \n",
       "mfi                   0.0      0.0  \n",
       "mpfi              36000.0  15645.0  \n",
       "spdi                  0.0      0.0  \n",
       "spfi                  0.0      0.0  "
      ]
     },
     "execution_count": 44,
     "metadata": {},
     "output_type": "execute_result"
    }
   ],
   "source": [
    "grouped_pivot2 = grouped_pivot2.fillna(0) #fill missing values with 0\n",
    "grouped_pivot2"
   ]
  },
  {
   "cell_type": "code",
   "execution_count": 45,
   "metadata": {},
   "outputs": [
    {
     "data": {
      "image/png": "[encoded data removed]",
      "text/plain": [
       "<Figure size 432x288 with 2 Axes>"
      ]
     },
     "metadata": {
      "needs_background": "light"
     },
     "output_type": "display_data"
    }
   ],
   "source": [
    "fig, ax = plt.subplots()\n",
    "im = ax.pcolor(grouped_pivot2, cmap='RdBu')\n",
    "\n",
    "#label names\n",
    "row_labels = grouped_pivot2.columns.levels[1]\n",
    "col_labels = grouped_pivot2.index\n",
    "\n",
    "#move ticks and labels to the center\n",
    "ax.set_xticks(np.arange(grouped_pivot2.shape[1]) + 0.5, minor=False)\n",
    "ax.set_yticks(np.arange(grouped_pivot2.shape[0]) + 0.5, minor=False)\n",
    "\n",
    "#insert labels\n",
    "ax.set_xticklabels(row_labels, minor=False)\n",
    "ax.set_yticklabels(col_labels, minor=False)\n",
    "\n",
    "ax.set_ylabel(\"y\")\n",
    "ax.set_xlabel(\"x\")\n",
    "\n",
    "#rotate label if too long\n",
    "plt.xticks(rotation=90)\n",
    "\n",
    "fig.colorbar(im)\n",
    "plt.show()"
   ]
  },
  {
   "cell_type": "markdown",
   "metadata": {},
   "source": [
    "<h2 id=\"correlation_causation\">5. Correlation and Causation</h2>"
   ]
  },
  {
   "cell_type": "markdown",
   "metadata": {},
   "source": [
    "<p> <b> Correlación </b>: una medida del grado de interdependencia entre variables. </p>\n",
    "\n",
    "<p> <b> Causación </b>: la relación entre causa y efecto entre dos variables. </p>\n",
    "\n",
    "<p> Es importante saber que la correlación no implica causalidad. Determinar la correlación es mucho más simple que la causalidad determinante ya que la causalidad puede requerir experimentación independiente. </p>"
   ]
  },
  {
   "cell_type": "markdown",
   "metadata": {},
   "source": [
    "\n",
    "<p3> <b>Correlación de Pearson</b> </p3>\n",
    "<p> La Correlación de Pearson mide la dependencia lineal entre dos variables X e Y. </p>\n",
    "<p> El coeficiente resultante es un valor entre -1 y 1, donde: </p>\n",
    "<ul>\n",
    "    <li> <b> 1 </b>: correlación lineal positiva. </li>\n",
    "    <li> <b> 0 </b>: Sin correlación lineal, las dos variables probablemente no se afectan entre sí. </li>\n",
    "    <li> <b> -1 </b>: correlación lineal negativa. </li>\n",
    "</ul>"
   ]
  },
  {
   "cell_type": "markdown",
   "metadata": {},
   "source": [
    "\n",
    "<p> Correlación de Pearson es el método predeterminado de la función <b>\"corr\"</b>.Se puede  calcular la correlación de Pearson de las variables 'int64' o 'float64'. </p>"
   ]
  },
  {
   "cell_type": "code",
   "execution_count": 46,
   "metadata": {},
   "outputs": [
    {
     "data": {
      "text/html": [
       "<div>\n",
       "<style scoped>\n",
       "    .dataframe tbody tr th:only-of-type {\n",
       "        vertical-align: middle;\n",
       "    }\n",
       "\n",
       "    .dataframe tbody tr th {\n",
       "        vertical-align: top;\n",
       "    }\n",
       "\n",
       "    .dataframe thead th {\n",
       "        text-align: right;\n",
       "    }\n",
       "</style>\n",
       "<table border=\"1\" class=\"dataframe\">\n",
       "  <thead>\n",
       "    <tr style=\"text-align: right;\">\n",
       "      <th></th>\n",
       "      <th>symboling</th>\n",
       "      <th>normalized-losses</th>\n",
       "      <th>wheel-base</th>\n",
       "      <th>length</th>\n",
       "      <th>width</th>\n",
       "      <th>height</th>\n",
       "      <th>curb-weight</th>\n",
       "      <th>engine-size</th>\n",
       "      <th>bore</th>\n",
       "      <th>stroke</th>\n",
       "      <th>compression-ratio</th>\n",
       "      <th>horsepower</th>\n",
       "      <th>peak-rpm</th>\n",
       "      <th>city-mpg</th>\n",
       "      <th>highway-mpg</th>\n",
       "      <th>price</th>\n",
       "      <th>city-L/100km</th>\n",
       "      <th>diesel</th>\n",
       "      <th>gas</th>\n",
       "    </tr>\n",
       "  </thead>\n",
       "  <tbody>\n",
       "    <tr>\n",
       "      <th>symboling</th>\n",
       "      <td>1.000000</td>\n",
       "      <td>0.466264</td>\n",
       "      <td>-0.535987</td>\n",
       "      <td>-0.365404</td>\n",
       "      <td>-0.242423</td>\n",
       "      <td>-0.550160</td>\n",
       "      <td>-0.233118</td>\n",
       "      <td>-0.110581</td>\n",
       "      <td>-0.140019</td>\n",
       "      <td>-0.008245</td>\n",
       "      <td>-0.182196</td>\n",
       "      <td>0.075819</td>\n",
       "      <td>0.279740</td>\n",
       "      <td>-0.035527</td>\n",
       "      <td>0.036233</td>\n",
       "      <td>-0.082391</td>\n",
       "      <td>0.066171</td>\n",
       "      <td>-0.196735</td>\n",
       "      <td>0.196735</td>\n",
       "    </tr>\n",
       "    <tr>\n",
       "      <th>normalized-losses</th>\n",
       "      <td>0.466264</td>\n",
       "      <td>1.000000</td>\n",
       "      <td>-0.056661</td>\n",
       "      <td>0.019424</td>\n",
       "      <td>0.086802</td>\n",
       "      <td>-0.373737</td>\n",
       "      <td>0.099404</td>\n",
       "      <td>0.112360</td>\n",
       "      <td>-0.029862</td>\n",
       "      <td>0.055563</td>\n",
       "      <td>-0.114713</td>\n",
       "      <td>0.217299</td>\n",
       "      <td>0.239543</td>\n",
       "      <td>-0.225016</td>\n",
       "      <td>-0.181877</td>\n",
       "      <td>0.133999</td>\n",
       "      <td>0.238567</td>\n",
       "      <td>-0.101546</td>\n",
       "      <td>0.101546</td>\n",
       "    </tr>\n",
       "    <tr>\n",
       "      <th>wheel-base</th>\n",
       "      <td>-0.535987</td>\n",
       "      <td>-0.056661</td>\n",
       "      <td>1.000000</td>\n",
       "      <td>0.876024</td>\n",
       "      <td>0.814507</td>\n",
       "      <td>0.590742</td>\n",
       "      <td>0.782097</td>\n",
       "      <td>0.572027</td>\n",
       "      <td>0.493244</td>\n",
       "      <td>0.158502</td>\n",
       "      <td>0.250313</td>\n",
       "      <td>0.371147</td>\n",
       "      <td>-0.360305</td>\n",
       "      <td>-0.470606</td>\n",
       "      <td>-0.543304</td>\n",
       "      <td>0.584642</td>\n",
       "      <td>0.476153</td>\n",
       "      <td>0.307237</td>\n",
       "      <td>-0.307237</td>\n",
       "    </tr>\n",
       "    <tr>\n",
       "      <th>length</th>\n",
       "      <td>-0.365404</td>\n",
       "      <td>0.019424</td>\n",
       "      <td>0.876024</td>\n",
       "      <td>1.000000</td>\n",
       "      <td>0.857170</td>\n",
       "      <td>0.492063</td>\n",
       "      <td>0.880665</td>\n",
       "      <td>0.685025</td>\n",
       "      <td>0.608971</td>\n",
       "      <td>0.124139</td>\n",
       "      <td>0.159733</td>\n",
       "      <td>0.579821</td>\n",
       "      <td>-0.285970</td>\n",
       "      <td>-0.665192</td>\n",
       "      <td>-0.698142</td>\n",
       "      <td>0.690628</td>\n",
       "      <td>0.657373</td>\n",
       "      <td>0.211187</td>\n",
       "      <td>-0.211187</td>\n",
       "    </tr>\n",
       "    <tr>\n",
       "      <th>width</th>\n",
       "      <td>-0.242423</td>\n",
       "      <td>0.086802</td>\n",
       "      <td>0.814507</td>\n",
       "      <td>0.857170</td>\n",
       "      <td>1.000000</td>\n",
       "      <td>0.306002</td>\n",
       "      <td>0.866201</td>\n",
       "      <td>0.729436</td>\n",
       "      <td>0.544885</td>\n",
       "      <td>0.188829</td>\n",
       "      <td>0.189867</td>\n",
       "      <td>0.615077</td>\n",
       "      <td>-0.245800</td>\n",
       "      <td>-0.633531</td>\n",
       "      <td>-0.680635</td>\n",
       "      <td>0.751265</td>\n",
       "      <td>0.673363</td>\n",
       "      <td>0.244356</td>\n",
       "      <td>-0.244356</td>\n",
       "    </tr>\n",
       "    <tr>\n",
       "      <th>height</th>\n",
       "      <td>-0.550160</td>\n",
       "      <td>-0.373737</td>\n",
       "      <td>0.590742</td>\n",
       "      <td>0.492063</td>\n",
       "      <td>0.306002</td>\n",
       "      <td>1.000000</td>\n",
       "      <td>0.307581</td>\n",
       "      <td>0.074694</td>\n",
       "      <td>0.180449</td>\n",
       "      <td>-0.062704</td>\n",
       "      <td>0.259737</td>\n",
       "      <td>-0.087027</td>\n",
       "      <td>-0.309974</td>\n",
       "      <td>-0.049800</td>\n",
       "      <td>-0.104812</td>\n",
       "      <td>0.135486</td>\n",
       "      <td>0.003811</td>\n",
       "      <td>0.281578</td>\n",
       "      <td>-0.281578</td>\n",
       "    </tr>\n",
       "    <tr>\n",
       "      <th>curb-weight</th>\n",
       "      <td>-0.233118</td>\n",
       "      <td>0.099404</td>\n",
       "      <td>0.782097</td>\n",
       "      <td>0.880665</td>\n",
       "      <td>0.866201</td>\n",
       "      <td>0.307581</td>\n",
       "      <td>1.000000</td>\n",
       "      <td>0.849072</td>\n",
       "      <td>0.644060</td>\n",
       "      <td>0.167562</td>\n",
       "      <td>0.156433</td>\n",
       "      <td>0.757976</td>\n",
       "      <td>-0.279361</td>\n",
       "      <td>-0.749543</td>\n",
       "      <td>-0.794889</td>\n",
       "      <td>0.834415</td>\n",
       "      <td>0.785353</td>\n",
       "      <td>0.221046</td>\n",
       "      <td>-0.221046</td>\n",
       "    </tr>\n",
       "    <tr>\n",
       "      <th>engine-size</th>\n",
       "      <td>-0.110581</td>\n",
       "      <td>0.112360</td>\n",
       "      <td>0.572027</td>\n",
       "      <td>0.685025</td>\n",
       "      <td>0.729436</td>\n",
       "      <td>0.074694</td>\n",
       "      <td>0.849072</td>\n",
       "      <td>1.000000</td>\n",
       "      <td>0.572609</td>\n",
       "      <td>0.209523</td>\n",
       "      <td>0.028889</td>\n",
       "      <td>0.822676</td>\n",
       "      <td>-0.256733</td>\n",
       "      <td>-0.650546</td>\n",
       "      <td>-0.679571</td>\n",
       "      <td>0.872335</td>\n",
       "      <td>0.745059</td>\n",
       "      <td>0.070779</td>\n",
       "      <td>-0.070779</td>\n",
       "    </tr>\n",
       "    <tr>\n",
       "      <th>bore</th>\n",
       "      <td>-0.140019</td>\n",
       "      <td>-0.029862</td>\n",
       "      <td>0.493244</td>\n",
       "      <td>0.608971</td>\n",
       "      <td>0.544885</td>\n",
       "      <td>0.180449</td>\n",
       "      <td>0.644060</td>\n",
       "      <td>0.572609</td>\n",
       "      <td>1.000000</td>\n",
       "      <td>-0.055390</td>\n",
       "      <td>0.001263</td>\n",
       "      <td>0.566936</td>\n",
       "      <td>-0.267392</td>\n",
       "      <td>-0.582027</td>\n",
       "      <td>-0.591309</td>\n",
       "      <td>0.543155</td>\n",
       "      <td>0.554610</td>\n",
       "      <td>0.054458</td>\n",
       "      <td>-0.054458</td>\n",
       "    </tr>\n",
       "    <tr>\n",
       "      <th>stroke</th>\n",
       "      <td>-0.008245</td>\n",
       "      <td>0.055563</td>\n",
       "      <td>0.158502</td>\n",
       "      <td>0.124139</td>\n",
       "      <td>0.188829</td>\n",
       "      <td>-0.062704</td>\n",
       "      <td>0.167562</td>\n",
       "      <td>0.209523</td>\n",
       "      <td>-0.055390</td>\n",
       "      <td>1.000000</td>\n",
       "      <td>0.187923</td>\n",
       "      <td>0.098462</td>\n",
       "      <td>-0.065713</td>\n",
       "      <td>-0.034696</td>\n",
       "      <td>-0.035201</td>\n",
       "      <td>0.082310</td>\n",
       "      <td>0.037300</td>\n",
       "      <td>0.241303</td>\n",
       "      <td>-0.241303</td>\n",
       "    </tr>\n",
       "    <tr>\n",
       "      <th>compression-ratio</th>\n",
       "      <td>-0.182196</td>\n",
       "      <td>-0.114713</td>\n",
       "      <td>0.250313</td>\n",
       "      <td>0.159733</td>\n",
       "      <td>0.189867</td>\n",
       "      <td>0.259737</td>\n",
       "      <td>0.156433</td>\n",
       "      <td>0.028889</td>\n",
       "      <td>0.001263</td>\n",
       "      <td>0.187923</td>\n",
       "      <td>1.000000</td>\n",
       "      <td>-0.214514</td>\n",
       "      <td>-0.435780</td>\n",
       "      <td>0.331425</td>\n",
       "      <td>0.268465</td>\n",
       "      <td>0.071107</td>\n",
       "      <td>-0.299372</td>\n",
       "      <td>0.985231</td>\n",
       "      <td>-0.985231</td>\n",
       "    </tr>\n",
       "    <tr>\n",
       "      <th>horsepower</th>\n",
       "      <td>0.075819</td>\n",
       "      <td>0.217299</td>\n",
       "      <td>0.371147</td>\n",
       "      <td>0.579821</td>\n",
       "      <td>0.615077</td>\n",
       "      <td>-0.087027</td>\n",
       "      <td>0.757976</td>\n",
       "      <td>0.822676</td>\n",
       "      <td>0.566936</td>\n",
       "      <td>0.098462</td>\n",
       "      <td>-0.214514</td>\n",
       "      <td>1.000000</td>\n",
       "      <td>0.107885</td>\n",
       "      <td>-0.822214</td>\n",
       "      <td>-0.804575</td>\n",
       "      <td>0.809575</td>\n",
       "      <td>0.889488</td>\n",
       "      <td>-0.169053</td>\n",
       "      <td>0.169053</td>\n",
       "    </tr>\n",
       "    <tr>\n",
       "      <th>peak-rpm</th>\n",
       "      <td>0.279740</td>\n",
       "      <td>0.239543</td>\n",
       "      <td>-0.360305</td>\n",
       "      <td>-0.285970</td>\n",
       "      <td>-0.245800</td>\n",
       "      <td>-0.309974</td>\n",
       "      <td>-0.279361</td>\n",
       "      <td>-0.256733</td>\n",
       "      <td>-0.267392</td>\n",
       "      <td>-0.065713</td>\n",
       "      <td>-0.435780</td>\n",
       "      <td>0.107885</td>\n",
       "      <td>1.000000</td>\n",
       "      <td>-0.115413</td>\n",
       "      <td>-0.058598</td>\n",
       "      <td>-0.101616</td>\n",
       "      <td>0.115830</td>\n",
       "      <td>-0.475812</td>\n",
       "      <td>0.475812</td>\n",
       "    </tr>\n",
       "    <tr>\n",
       "      <th>city-mpg</th>\n",
       "      <td>-0.035527</td>\n",
       "      <td>-0.225016</td>\n",
       "      <td>-0.470606</td>\n",
       "      <td>-0.665192</td>\n",
       "      <td>-0.633531</td>\n",
       "      <td>-0.049800</td>\n",
       "      <td>-0.749543</td>\n",
       "      <td>-0.650546</td>\n",
       "      <td>-0.582027</td>\n",
       "      <td>-0.034696</td>\n",
       "      <td>0.331425</td>\n",
       "      <td>-0.822214</td>\n",
       "      <td>-0.115413</td>\n",
       "      <td>1.000000</td>\n",
       "      <td>0.972044</td>\n",
       "      <td>-0.686571</td>\n",
       "      <td>-0.949713</td>\n",
       "      <td>0.265676</td>\n",
       "      <td>-0.265676</td>\n",
       "    </tr>\n",
       "    <tr>\n",
       "      <th>highway-mpg</th>\n",
       "      <td>0.036233</td>\n",
       "      <td>-0.181877</td>\n",
       "      <td>-0.543304</td>\n",
       "      <td>-0.698142</td>\n",
       "      <td>-0.680635</td>\n",
       "      <td>-0.104812</td>\n",
       "      <td>-0.794889</td>\n",
       "      <td>-0.679571</td>\n",
       "      <td>-0.591309</td>\n",
       "      <td>-0.035201</td>\n",
       "      <td>0.268465</td>\n",
       "      <td>-0.804575</td>\n",
       "      <td>-0.058598</td>\n",
       "      <td>0.972044</td>\n",
       "      <td>1.000000</td>\n",
       "      <td>-0.704692</td>\n",
       "      <td>-0.930028</td>\n",
       "      <td>0.198690</td>\n",
       "      <td>-0.198690</td>\n",
       "    </tr>\n",
       "    <tr>\n",
       "      <th>price</th>\n",
       "      <td>-0.082391</td>\n",
       "      <td>0.133999</td>\n",
       "      <td>0.584642</td>\n",
       "      <td>0.690628</td>\n",
       "      <td>0.751265</td>\n",
       "      <td>0.135486</td>\n",
       "      <td>0.834415</td>\n",
       "      <td>0.872335</td>\n",
       "      <td>0.543155</td>\n",
       "      <td>0.082310</td>\n",
       "      <td>0.071107</td>\n",
       "      <td>0.809575</td>\n",
       "      <td>-0.101616</td>\n",
       "      <td>-0.686571</td>\n",
       "      <td>-0.704692</td>\n",
       "      <td>1.000000</td>\n",
       "      <td>0.789898</td>\n",
       "      <td>0.110326</td>\n",
       "      <td>-0.110326</td>\n",
       "    </tr>\n",
       "    <tr>\n",
       "      <th>city-L/100km</th>\n",
       "      <td>0.066171</td>\n",
       "      <td>0.238567</td>\n",
       "      <td>0.476153</td>\n",
       "      <td>0.657373</td>\n",
       "      <td>0.673363</td>\n",
       "      <td>0.003811</td>\n",
       "      <td>0.785353</td>\n",
       "      <td>0.745059</td>\n",
       "      <td>0.554610</td>\n",
       "      <td>0.037300</td>\n",
       "      <td>-0.299372</td>\n",
       "      <td>0.889488</td>\n",
       "      <td>0.115830</td>\n",
       "      <td>-0.949713</td>\n",
       "      <td>-0.930028</td>\n",
       "      <td>0.789898</td>\n",
       "      <td>1.000000</td>\n",
       "      <td>-0.241282</td>\n",
       "      <td>0.241282</td>\n",
       "    </tr>\n",
       "    <tr>\n",
       "      <th>diesel</th>\n",
       "      <td>-0.196735</td>\n",
       "      <td>-0.101546</td>\n",
       "      <td>0.307237</td>\n",
       "      <td>0.211187</td>\n",
       "      <td>0.244356</td>\n",
       "      <td>0.281578</td>\n",
       "      <td>0.221046</td>\n",
       "      <td>0.070779</td>\n",
       "      <td>0.054458</td>\n",
       "      <td>0.241303</td>\n",
       "      <td>0.985231</td>\n",
       "      <td>-0.169053</td>\n",
       "      <td>-0.475812</td>\n",
       "      <td>0.265676</td>\n",
       "      <td>0.198690</td>\n",
       "      <td>0.110326</td>\n",
       "      <td>-0.241282</td>\n",
       "      <td>1.000000</td>\n",
       "      <td>-1.000000</td>\n",
       "    </tr>\n",
       "    <tr>\n",
       "      <th>gas</th>\n",
       "      <td>0.196735</td>\n",
       "      <td>0.101546</td>\n",
       "      <td>-0.307237</td>\n",
       "      <td>-0.211187</td>\n",
       "      <td>-0.244356</td>\n",
       "      <td>-0.281578</td>\n",
       "      <td>-0.221046</td>\n",
       "      <td>-0.070779</td>\n",
       "      <td>-0.054458</td>\n",
       "      <td>-0.241303</td>\n",
       "      <td>-0.985231</td>\n",
       "      <td>0.169053</td>\n",
       "      <td>0.475812</td>\n",
       "      <td>-0.265676</td>\n",
       "      <td>-0.198690</td>\n",
       "      <td>-0.110326</td>\n",
       "      <td>0.241282</td>\n",
       "      <td>-1.000000</td>\n",
       "      <td>1.000000</td>\n",
       "    </tr>\n",
       "  </tbody>\n",
       "</table>\n",
       "</div>"
      ],
      "text/plain": [
       "                   symboling  normalized-losses  wheel-base    length  \\\n",
       "symboling           1.000000           0.466264   -0.535987 -0.365404   \n",
       "normalized-losses   0.466264           1.000000   -0.056661  0.019424   \n",
       "wheel-base         -0.535987          -0.056661    1.000000  0.876024   \n",
       "length             -0.365404           0.019424    0.876024  1.000000   \n",
       "width              -0.242423           0.086802    0.814507  0.857170   \n",
       "height             -0.550160          -0.373737    0.590742  0.492063   \n",
       "curb-weight        -0.233118           0.099404    0.782097  0.880665   \n",
       "engine-size        -0.110581           0.112360    0.572027  0.685025   \n",
       "bore               -0.140019          -0.029862    0.493244  0.608971   \n",
       "stroke             -0.008245           0.055563    0.158502  0.124139   \n",
       "compression-ratio  -0.182196          -0.114713    0.250313  0.159733   \n",
       "horsepower          0.075819           0.217299    0.371147  0.579821   \n",
       "peak-rpm            0.279740           0.239543   -0.360305 -0.285970   \n",
       "city-mpg           -0.035527          -0.225016   -0.470606 -0.665192   \n",
       "highway-mpg         0.036233          -0.181877   -0.543304 -0.698142   \n",
       "price              -0.082391           0.133999    0.584642  0.690628   \n",
       "city-L/100km        0.066171           0.238567    0.476153  0.657373   \n",
       "diesel             -0.196735          -0.101546    0.307237  0.211187   \n",
       "gas                 0.196735           0.101546   -0.307237 -0.211187   \n",
       "\n",
       "                      width    height  curb-weight  engine-size      bore  \\\n",
       "symboling         -0.242423 -0.550160    -0.233118    -0.110581 -0.140019   \n",
       "normalized-losses  0.086802 -0.373737     0.099404     0.112360 -0.029862   \n",
       "wheel-base         0.814507  0.590742     0.782097     0.572027  0.493244   \n",
       "length             0.857170  0.492063     0.880665     0.685025  0.608971   \n",
       "width              1.000000  0.306002     0.866201     0.729436  0.544885   \n",
       "height             0.306002  1.000000     0.307581     0.074694  0.180449   \n",
       "curb-weight        0.866201  0.307581     1.000000     0.849072  0.644060   \n",
       "engine-size        0.729436  0.074694     0.849072     1.000000  0.572609   \n",
       "bore               0.544885  0.180449     0.644060     0.572609  1.000000   \n",
       "stroke             0.188829 -0.062704     0.167562     0.209523 -0.055390   \n",
       "compression-ratio  0.189867  0.259737     0.156433     0.028889  0.001263   \n",
       "horsepower         0.615077 -0.087027     0.757976     0.822676  0.566936   \n",
       "peak-rpm          -0.245800 -0.309974    -0.279361    -0.256733 -0.267392   \n",
       "city-mpg          -0.633531 -0.049800    -0.749543    -0.650546 -0.582027   \n",
       "highway-mpg       -0.680635 -0.104812    -0.794889    -0.679571 -0.591309   \n",
       "price              0.751265  0.135486     0.834415     0.872335  0.543155   \n",
       "city-L/100km       0.673363  0.003811     0.785353     0.745059  0.554610   \n",
       "diesel             0.244356  0.281578     0.221046     0.070779  0.054458   \n",
       "gas               -0.244356 -0.281578    -0.221046    -0.070779 -0.054458   \n",
       "\n",
       "                     stroke  compression-ratio  horsepower  peak-rpm  \\\n",
       "symboling         -0.008245          -0.182196    0.075819  0.279740   \n",
       "normalized-losses  0.055563          -0.114713    0.217299  0.239543   \n",
       "wheel-base         0.158502           0.250313    0.371147 -0.360305   \n",
       "length             0.124139           0.159733    0.579821 -0.285970   \n",
       "width              0.188829           0.189867    0.615077 -0.245800   \n",
       "height            -0.062704           0.259737   -0.087027 -0.309974   \n",
       "curb-weight        0.167562           0.156433    0.757976 -0.279361   \n",
       "engine-size        0.209523           0.028889    0.822676 -0.256733   \n",
       "bore              -0.055390           0.001263    0.566936 -0.267392   \n",
       "stroke             1.000000           0.187923    0.098462 -0.065713   \n",
       "compression-ratio  0.187923           1.000000   -0.214514 -0.435780   \n",
       "horsepower         0.098462          -0.214514    1.000000  0.107885   \n",
       "peak-rpm          -0.065713          -0.435780    0.107885  1.000000   \n",
       "city-mpg          -0.034696           0.331425   -0.822214 -0.115413   \n",
       "highway-mpg       -0.035201           0.268465   -0.804575 -0.058598   \n",
       "price              0.082310           0.071107    0.809575 -0.101616   \n",
       "city-L/100km       0.037300          -0.299372    0.889488  0.115830   \n",
       "diesel             0.241303           0.985231   -0.169053 -0.475812   \n",
       "gas               -0.241303          -0.985231    0.169053  0.475812   \n",
       "\n",
       "                   city-mpg  highway-mpg     price  city-L/100km    diesel  \\\n",
       "symboling         -0.035527     0.036233 -0.082391      0.066171 -0.196735   \n",
       "normalized-losses -0.225016    -0.181877  0.133999      0.238567 -0.101546   \n",
       "wheel-base        -0.470606    -0.543304  0.584642      0.476153  0.307237   \n",
       "length            -0.665192    -0.698142  0.690628      0.657373  0.211187   \n",
       "width             -0.633531    -0.680635  0.751265      0.673363  0.244356   \n",
       "height            -0.049800    -0.104812  0.135486      0.003811  0.281578   \n",
       "curb-weight       -0.749543    -0.794889  0.834415      0.785353  0.221046   \n",
       "engine-size       -0.650546    -0.679571  0.872335      0.745059  0.070779   \n",
       "bore              -0.582027    -0.591309  0.543155      0.554610  0.054458   \n",
       "stroke            -0.034696    -0.035201  0.082310      0.037300  0.241303   \n",
       "compression-ratio  0.331425     0.268465  0.071107     -0.299372  0.985231   \n",
       "horsepower        -0.822214    -0.804575  0.809575      0.889488 -0.169053   \n",
       "peak-rpm          -0.115413    -0.058598 -0.101616      0.115830 -0.475812   \n",
       "city-mpg           1.000000     0.972044 -0.686571     -0.949713  0.265676   \n",
       "highway-mpg        0.972044     1.000000 -0.704692     -0.930028  0.198690   \n",
       "price             -0.686571    -0.704692  1.000000      0.789898  0.110326   \n",
       "city-L/100km      -0.949713    -0.930028  0.789898      1.000000 -0.241282   \n",
       "diesel             0.265676     0.198690  0.110326     -0.241282  1.000000   \n",
       "gas               -0.265676    -0.198690 -0.110326      0.241282 -1.000000   \n",
       "\n",
       "                        gas  \n",
       "symboling          0.196735  \n",
       "normalized-losses  0.101546  \n",
       "wheel-base        -0.307237  \n",
       "length            -0.211187  \n",
       "width             -0.244356  \n",
       "height            -0.281578  \n",
       "curb-weight       -0.221046  \n",
       "engine-size       -0.070779  \n",
       "bore              -0.054458  \n",
       "stroke            -0.241303  \n",
       "compression-ratio -0.985231  \n",
       "horsepower         0.169053  \n",
       "peak-rpm           0.475812  \n",
       "city-mpg          -0.265676  \n",
       "highway-mpg       -0.198690  \n",
       "price             -0.110326  \n",
       "city-L/100km       0.241282  \n",
       "diesel            -1.000000  \n",
       "gas                1.000000  "
      ]
     },
     "execution_count": 46,
     "metadata": {},
     "output_type": "execute_result"
    }
   ],
   "source": [
    "df.corr()"
   ]
  },
  {
   "cell_type": "markdown",
   "metadata": {},
   "source": [
    "<b>p-valor</b>: \n",
    "<p> ¿Qué es este p-valor? El p-valor es el valor de probabilidad de que la correlación entre estas dos variables sea estadísticamente significativa. Normalmente, elegimos un nivel de significancia de 0.05, lo que significa que estamos 95% seguros de que la correlación entre las variables es significativa. </p>\n",
    "\n",
    "Por convención, cuando el\n",
    "<ul>\n",
    "    <li> el p-valor es $ <$ 0.001: decimos que hay pruebas sólidas de que la correlación es significativa. </li>\n",
    "    <li> el p-valor es $ <$ 0.05: existe evidencia moderada de que la correlación es significativa. </li>\n",
    "    <li> el p-valor es $ <$ 0.1: existe evidencia débil de que la correlación es significativa. </li>\n",
    "    <li> el p-valor es $> $ 0.1: no hay evidencia de que la correlación sea significativa. </li>\n",
    "</ul>"
   ]
  },
  {
   "cell_type": "markdown",
   "metadata": {},
   "source": [
    "<b>Scipy</b>: \n",
    "\n",
    "La libreria SciPy proporciona muchas rutinas numéricas fáciles de usar y eficientes, como rutinas para integración numérica, interpolación, optimización, álgebra lineal y estadísticas.\n",
    "\n",
    "https://www.scipy.org/scipylib/index.html\n",
    "\n",
    "Para calcular el coeficientes de Pearson y el p-valor se procedera a utilizar el módulo de \"estadísticas\" de la libreria \"scipy\""
   ]
  },
  {
   "cell_type": "code",
   "execution_count": 47,
   "metadata": {},
   "outputs": [],
   "source": [
    "from scipy import stats"
   ]
  },
  {
   "cell_type": "markdown",
   "metadata": {},
   "source": [
    "<h3>Wheel-base vs Price</h3>"
   ]
  },
  {
   "cell_type": "markdown",
   "metadata": {},
   "source": [
    "Calculamos el coeficiente de correlación de Pearson y p-valor entre 'wheel-base' y 'price'. "
   ]
  },
  {
   "cell_type": "code",
   "execution_count": 56,
   "metadata": {},
   "outputs": [
    {
     "name": "stdout",
     "output_type": "stream",
     "text": [
      "El coeficiente de correlación de Pearson es 0.585  con un p-valor de  8.076488270733218e-20\n"
     ]
    }
   ],
   "source": [
    "pearson_coef, p_value = stats.pearsonr(df['wheel-base'], df['price'])\n",
    "print(\"El coeficiente de correlación de Pearson es\", round(pearson_coef,3),\n",
    "      \" con un p-valor de \", p_value)  "
   ]
  },
  {
   "cell_type": "markdown",
   "metadata": {},
   "source": [
    "<h5> Conclusión: </h5>\n",
    "<p> Dado que el p-valor es $ <$ 0.001, la correlación entre la distancia entre ejes (wheel-base) y el precio es estadísticamente significativa, aunque la relación lineal no es extremadamente fuerte (~ 0.585) </p>"
   ]
  },
  {
   "cell_type": "code",
   "execution_count": null,
   "metadata": {},
   "outputs": [],
   "source": [
    "<h3>Horsepower vs Price</h3>"
   ]
  },
  {
   "cell_type": "code",
   "execution_count": null,
   "metadata": {},
   "outputs": [],
   "source": [
    "Calculamos el coeficiente de correlación de Pearson y p-valor entre 'horsepower' y 'price'. "
   ]
  },
  {
   "cell_type": "code",
   "execution_count": 59,
   "metadata": {},
   "outputs": [
    {
     "name": "stdout",
     "output_type": "stream",
     "text": [
      "El coeficiente de correlación de Pearson es 0.81  con un p-valor de  6.369057428259557e-48\n"
     ]
    }
   ],
   "source": [
    "pearson_coef, p_value = stats.pearsonr(df['horsepower'], df['price'])\n",
    "print(\"El coeficiente de correlación de Pearson es\", round(pearson_coef,3),\n",
    "      \" con un p-valor de \", p_value)  "
   ]
  },
  {
   "cell_type": "markdown",
   "metadata": {},
   "source": [
    "<h5> Conclusión: </h5>\n",
    "<p> Dado que el p-valor es $ <$ 0.001, la correlación entre los caballos de fuerza (horsepower) y el precio es estadísticamente significativa y la relación lineal es ligeramente fuerte (~ 0.81) </p>"
   ]
  },
  {
   "cell_type": "markdown",
   "metadata": {},
   "source": [
    "<h3>Length vs Price</h3>"
   ]
  },
  {
   "cell_type": "markdown",
   "metadata": {},
   "source": [
    "Calculamos el coeficiente de correlación de Pearson y p-valor entre 'length' y 'price'. "
   ]
  },
  {
   "cell_type": "code",
   "execution_count": 62,
   "metadata": {},
   "outputs": [
    {
     "name": "stdout",
     "output_type": "stream",
     "text": [
      "El coeficiente de correlación de Pearson es 0.691  con un p-valor de  8.016477466158986e-30\n"
     ]
    }
   ],
   "source": [
    "pearson_coef, p_value = stats.pearsonr(df['length'], df['price'])\n",
    "print(\"El coeficiente de correlación de Pearson es\", round(pearson_coef,3),\n",
    "      \" con un p-valor de \", p_value)  "
   ]
  },
  {
   "cell_type": "markdown",
   "metadata": {},
   "source": [
    "<h5> Conclusión: </h5>\n",
    "<p> Dado que el p-valor es $ <$ 0.001, la correlación entre la longitud de auto (length) y el precio es estadísticamente significativa y la relación lineal es moderamente fuerte (~ 0.691) </p>"
   ]
  },
  {
   "cell_type": "markdown",
   "metadata": {},
   "source": [
    "<h3>Width vs Price</h3>"
   ]
  },
  {
   "cell_type": "markdown",
   "metadata": {},
   "source": [
    "Calculamos el coeficiente de correlación de Pearson y p-valor entre 'width' y 'price'. "
   ]
  },
  {
   "cell_type": "code",
   "execution_count": 65,
   "metadata": {},
   "outputs": [
    {
     "name": "stdout",
     "output_type": "stream",
     "text": [
      "El coeficiente de correlación de Pearson es 0.751  con un p-valor de  9.200335510481516e-38\n"
     ]
    }
   ],
   "source": [
    "pearson_coef, p_value = stats.pearsonr(df['width'], df['price'])\n",
    "print(\"El coeficiente de correlación de Pearson es\", round(pearson_coef,3),\n",
    "      \" con un p-valor de \", p_value)  "
   ]
  },
  {
   "cell_type": "markdown",
   "metadata": {},
   "source": [
    "<h5> Conclusión: </h5>\n",
    "<p> Dado que el p-valor es $ <$ 0.001, la correlación entre el ancho del auto y el precio es estadísticamente significativa y la relación lineal es ligeramente fuerte (~ 0.751) </p>"
   ]
  },
  {
   "cell_type": "markdown",
   "metadata": {},
   "source": [
    "<div class=\"alert alert-danger alertdanger\" style=\"margin-top: 20px\">\n",
    "<h1>Pregunta 5:</h1>\n",
    "\n",
    "<p>Calcular la correlación de Pearson y el p-valor entre:\n",
    "    <ul>\n",
    "    <li> Engine-size vs Price\n",
    "    <li> City-mpg vs Price\n",
    "    <li> Highway-mpg vs Price   \n",
    "    <li> Bore vs Price\n",
    "    </ul>\n",
    "</p>\n",
    "\n",
    "</div>"
   ]
  },
  {
   "cell_type": "markdown",
   "metadata": {},
   "source": [
    "<h2 id=\"anova\">6. ANOVA</h2>"
   ]
  },
  {
   "cell_type": "markdown",
   "metadata": {},
   "source": [
    "<h3> ANOVA: Análisis de varianza </h3>\n",
    "<p> El análisis de varianza (ANOVA) es un método estadístico utilizado para evaluar si existen diferencias significativas entre las medias de dos o más grupos. ANOVA devuelve dos parámetros: </p>\n",
    "\n",
    "<p> <b> F-test score </b>: ANOVA asume que las medias de todos los grupos son iguales, calcula cuánto se desvían los medios reales de la suposición, y lo informa como el puntaje de F-test. Una puntuación mayor significa que hay una diferencia mayor entre las medias. </p>\n",
    "\n",
    "<p> <b> P-valor </b>: el p-valor indica cuán estadísticamente significativo es nuestro valor de puntaje calculado. </p>\n",
    "\n",
    "<p> Si nuestra variable de precio está fuertemente correlacionada con la variable que estamos analizando, espere que ANOVA devuelva una puntuación considerable en la prueba F y un valor p pequeño. </p>"
   ]
  },
  {
   "cell_type": "markdown",
   "metadata": {},
   "source": [
    "<h3>Drive Wheels</h3>"
   ]
  },
  {
   "cell_type": "markdown",
   "metadata": {},
   "source": [
    "<p> Dado que ANOVA analiza la diferencia entre  grupos de la misma variable, la función groupby será útil. Debido a que el algoritmo ANOVA promedia los datos automáticamente, no necesitamos tomar el promedio de antemano. </p>\n",
    "\n",
    "<p> Veamos si diferentes tipos de 'drive-wheels' impactan en el 'price'. </p>"
   ]
  },
  {
   "cell_type": "code",
   "execution_count": 96,
   "metadata": {},
   "outputs": [
    {
     "data": {
      "text/plain": [
       "array(['rwd', 'fwd', '4wd'], dtype=object)"
      ]
     },
     "execution_count": 96,
     "metadata": {},
     "output_type": "execute_result"
    }
   ],
   "source": [
    "df['drive-wheels'].unique()"
   ]
  },
  {
   "cell_type": "code",
   "execution_count": 97,
   "metadata": {},
   "outputs": [
    {
     "data": {
      "text/plain": [
       "0      13495.0\n",
       "1      16500.0\n",
       "2      16500.0\n",
       "9      16430.0\n",
       "10     16925.0\n",
       "        ...   \n",
       "196    16845.0\n",
       "197    19045.0\n",
       "198    21485.0\n",
       "199    22470.0\n",
       "200    22625.0\n",
       "Name: price, Length: 75, dtype: float64"
      ]
     },
     "execution_count": 97,
     "metadata": {},
     "output_type": "execute_result"
    }
   ],
   "source": [
    "df[df[\"drive-wheels\"] == \"rwd\"][\"price\"]"
   ]
  },
  {
   "cell_type": "code",
   "execution_count": 98,
   "metadata": {},
   "outputs": [
    {
     "data": {
      "text/plain": [
       "3      13950.0\n",
       "5      15250.0\n",
       "6      17710.0\n",
       "7      18920.0\n",
       "8      23875.0\n",
       "        ...   \n",
       "185    11595.0\n",
       "186     9980.0\n",
       "187    13295.0\n",
       "188    13845.0\n",
       "189    12290.0\n",
       "Name: price, Length: 118, dtype: float64"
      ]
     },
     "execution_count": 98,
     "metadata": {},
     "output_type": "execute_result"
    }
   ],
   "source": [
    "df[df[\"drive-wheels\"] == \"fwd\"][\"price\"]"
   ]
  },
  {
   "cell_type": "code",
   "execution_count": 99,
   "metadata": {},
   "outputs": [
    {
     "data": {
      "text/plain": [
       "4      17450.0\n",
       "136     7603.0\n",
       "140     9233.0\n",
       "141    11259.0\n",
       "144     8013.0\n",
       "145    11694.0\n",
       "150     7898.0\n",
       "151     8778.0\n",
       "Name: price, dtype: float64"
      ]
     },
     "execution_count": 99,
     "metadata": {},
     "output_type": "execute_result"
    }
   ],
   "source": [
    "df[df[\"drive-wheels\"] == \"4wd\"][\"price\"]"
   ]
  },
  {
   "cell_type": "code",
   "execution_count": 100,
   "metadata": {},
   "outputs": [
    {
     "name": "stdout",
     "output_type": "stream",
     "text": [
      "ANOVA results: F= 67.95406500780399 , P = 3.3945443577151245e-23\n"
     ]
    }
   ],
   "source": [
    "# ANOVA\n",
    "f_val, p_val = stats.f_oneway(df[df[\"drive-wheels\"] == \"fwd\"][\"price\"], \n",
    "                              df[df[\"drive-wheels\"] == \"rwd\"][\"price\"], \n",
    "                              df[df[\"drive-wheels\"] == \"4wd\"][\"price\"])  \n",
    " \n",
    "print( \"ANOVA results: F=\", f_val, \", P =\", p_val) "
   ]
  },
  {
   "cell_type": "markdown",
   "metadata": {},
   "source": [
    "Con una puntuación de F-test grande que muestra una fuerte correlación y un p-valor cercano a 0, lo que implica una significación estadística casi segura. Pero, ¿significa esto que los tres grupos probados están tan correlacionados?"
   ]
  },
  {
   "cell_type": "markdown",
   "metadata": {},
   "source": [
    "#### Separado: fwd and rwd"
   ]
  },
  {
   "cell_type": "code",
   "execution_count": 103,
   "metadata": {},
   "outputs": [
    {
     "name": "stdout",
     "output_type": "stream",
     "text": [
      "ANOVA results: F= 130.5533160959111 , P = 2.2355306355677845e-23\n"
     ]
    }
   ],
   "source": [
    "f_val, p_val = stats.f_oneway(df[df[\"drive-wheels\"] == \"fwd\"][\"price\"], \n",
    "                              df[df[\"drive-wheels\"] == \"rwd\"][\"price\"])  \n",
    " \n",
    "print( \"ANOVA results: F=\", f_val, \", P =\", p_val) "
   ]
  },
  {
   "cell_type": "markdown",
   "metadata": {},
   "source": [
    "#### Separado: 4wd and rwd"
   ]
  },
  {
   "cell_type": "code",
   "execution_count": 104,
   "metadata": {},
   "outputs": [
    {
     "name": "stdout",
     "output_type": "stream",
     "text": [
      "ANOVA results: F= 8.580681368924756 , P = 0.004411492211225333\n"
     ]
    }
   ],
   "source": [
    "f_val, p_val = stats.f_oneway(df[df[\"drive-wheels\"] == \"4wd\"][\"price\"], \n",
    "                              df[df[\"drive-wheels\"] == \"rwd\"][\"price\"])  \n",
    " \n",
    "print( \"ANOVA results: F=\", f_val, \", P =\", p_val)"
   ]
  },
  {
   "cell_type": "markdown",
   "metadata": {},
   "source": [
    "#### Separado: 4wd and fwd"
   ]
  },
  {
   "cell_type": "code",
   "execution_count": 105,
   "metadata": {},
   "outputs": [
    {
     "name": "stdout",
     "output_type": "stream",
     "text": [
      "ANOVA results: F= 0.665465750252303 , P = 0.41620116697845666\n"
     ]
    }
   ],
   "source": [
    "f_val, p_val = stats.f_oneway(df[df[\"drive-wheels\"] == \"4wd\"][\"price\"], \n",
    "                              df[df[\"drive-wheels\"] == \"fwd\"][\"price\"])  \n",
    " \n",
    "print( \"ANOVA results: F=\", f_val, \", P =\", p_val)"
   ]
  },
  {
   "cell_type": "markdown",
   "metadata": {},
   "source": [
    "<h3>Conclusion: Importantes Variables</h3>"
   ]
  },
  {
   "cell_type": "markdown",
   "metadata": {},
   "source": [
    "<p> Ahora tenemos una mejor idea de cómo se ven nuestros datos y qué variables son importantes para tener en cuenta al predecir el precio del automóvil. Lo hemos reducido a las siguientes variables: </p>\n",
    "\n",
    "Variables numéricas continuas:\n",
    "<ul>\n",
    "    <li>Length</li>\n",
    "    <li>Width</li>\n",
    "    <li>Curb-weight</li>\n",
    "    <li>Engine-size</li>\n",
    "    <li>Horsepower</li>\n",
    "    <li>City-mpg</li>\n",
    "    <li>Highway-mpg</li>\n",
    "    <li>Wheel-base</li>\n",
    "    <li>Bore</li>\n",
    "</ul>\n",
    "    \n",
    "Variables categóricas:\n",
    "<ul>\n",
    "    <li>drive-wheels</li>\n",
    "</ul>"
   ]
  },
  {
   "cell_type": "code",
   "execution_count": null,
   "metadata": {},
   "outputs": [],
   "source": []
  }
 ],
 "metadata": {
  "anaconda-cloud": {},
  "kernelspec": {
   "display_name": "Python 3",
   "language": "python",
   "name": "python3"
  },
  "language_info": {
   "codemirror_mode": {
    "name": "ipython",
    "version": 3
   },
   "file_extension": ".py",
   "mimetype": "text/x-python",
   "name": "python",
   "nbconvert_exporter": "python",
   "pygments_lexer": "ipython3",
   "version": "3.6.9"
  }
 },
 "nbformat": 4,
 "nbformat_minor": 2
}
